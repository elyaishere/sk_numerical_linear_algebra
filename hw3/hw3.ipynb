{
  "cells": [
    {
      "cell_type": "markdown",
      "metadata": {
        "id": "oKA9odBiZ7Ug"
      },
      "source": [
        "# Problem set 3 (90 pts)\n",
        "\n",
        "## Important note: the template for your solution filename is Name_Surname_PS3.ipynb\n",
        "\n",
        "### The correct answer to the bonus question can be used as an additional reason to increase the final grade in the border case"
      ]
    },
    {
      "cell_type": "markdown",
      "metadata": {
        "id": "5ZXgrk3dZ7Uj"
      },
      "source": [
        "## Problem 1 (25 pts)\n",
        "\n",
        "- (5 pts) Prove that $\\mathrm{vec}(AXB) = (B^\\top \\otimes A)\\, \\mathrm{vec}(X)$ if $\\mathrm{vec}(X)$ is a columnwise reshape of a matrix into a long vector. What does it change if the reshape is rowwise? \n",
        "\n",
        "**Note:** To make a columnwise reshape in Python one should use ```np.reshape(X, order='f')```, where the string ```'f'``` stands for the Fortran ordering. \n",
        "\n",
        "- (2 pts) What is the complexity of a naive computation of $(A \\otimes B) x$? Show how it can be reduced.\n",
        "\n",
        "- (3 pts) Let matrices $A$ and $B$ have eigendecompositions $A = S_A\\Lambda_A S_A^{-1}$ and $B = S_B\\Lambda_B S^{-1}_B$. Find eigenvectors and eigenvalues of the matrix $A\\otimes I + I \\otimes B$, where dimension of $I$ coincides with the dimension of $A$ and $B$.\n",
        "\n",
        "\n",
        "- (10 pts) Let $A = \\mathrm{diag}\\left(\\frac{1}{1000},\\frac{2}{1000},\\dots \\frac{999}{1000}, 1, 1000 \\right)$. Estimate analytically the number of iterations required  to solve linear system with $A$ with the relative accuracy $10^{-4}$ using\n",
        "    - Richardson iteration with the optimal choice of parameter (use $2$-norm)\n",
        "    - Chebyshev iteration (use $2$-norm)\n",
        "    - Conjugate gradient method (use $A$-norm).\n",
        "    \n",
        "- (5 pts) Provide numerical confirmation of your estimate from theoretical point of view"
      ]
    },
    {
      "cell_type": "markdown",
      "metadata": {
        "id": "3IFIDf1mo24_"
      },
      "source": [
        "\n",
        "\n",
        "---\n",
        "\n"
      ]
    },
    {
      "cell_type": "markdown",
      "metadata": {
        "id": "c_V5yNEcbA54"
      },
      "source": [
        "\n",
        "\n",
        "*   Let $ A\\in ℜ^{k\\times l},\\ X\\in ℜ^{l\\times m},\\ B\\in ℜ^{m\\times n}$, then $(AXB)_{ij} = \\sum_{p=1}^{l}a_{ip}(\\sum_{t=1}^mx_{pt}b_{tj}) = \\sum_{t=1}^mb_{tj}(\\sum_{p=1}^la_{ip}x_{pt}) = b_{1j}(a_{i1}x_{11} + a_{i2}x_{21} +...+a_{il}x_{l1}) + b_{2j}(a_{i1}x_{12} + a_{i2}x_{22} +...+a_{il}x_{l2}) + ... + b_{mj}(a_{i1}x_{1m} + a_{i2}x_{2m} +...+a_{il}x_{lm}) = \\begin{bmatrix} b_{1j}a_{i1} \\  b_{1j}a_{i2} \\ ... \\  b_{1j}a_{il} \\  b_{2j}a_{i1} \\ ... \\  b_{mj}a_{il} \\end{bmatrix}\\begin{bmatrix}\n",
        "x_{11} \\\\\n",
        "x_{21} \\\\\n",
        "... \\\\\n",
        "x_{l1} \\\\\n",
        "x_{12} \\\\\n",
        "... \\\\\n",
        "x_{lm}\n",
        "\\end{bmatrix} = \\begin{bmatrix} b_{1j} A_i \\  b_{2j}A_i \\ ... \\  b_{mj}A_i \\end{bmatrix}\\mathrm{vec}(X)$\n",
        "\n",
        "where $A_i-i'th$ row of $A$. We know that shape of $ABC$ is $k\\times n$. So\n",
        "\n",
        "$$\\mathrm{vec}(ABC) = \\begin{bmatrix}\n",
        "\\begin{bmatrix} b_{11} A_1 \\  b_{21}A_1 \\ ... \\  b_{m1}A_1 \\end{bmatrix}\\mathrm{vec}(X) \\\\\n",
        "\\begin{bmatrix} b_{11} A_2 \\  b_{21}A_2 \\ ... \\  b_{m1}A_2 \\end{bmatrix}\\mathrm{vec}(X) \\\\\n",
        "... \\\\\n",
        "\\begin{bmatrix} b_{11} A_k \\  b_{21}A_k \\ ... \\  b_{m1}A_k \\end{bmatrix}\\mathrm{vec}(X) \\\\\n",
        "\\begin{bmatrix} b_{12} A_1 \\  b_{22}A_1 \\ ... \\  b_{m2}A_1 \\end{bmatrix}\\mathrm{vec}(X) \\\\\n",
        "... \\\\\n",
        "\\begin{bmatrix} b_{1n} A_k \\  b_{2n}A_k \\ ... \\  b_{mn}A_k \\end{bmatrix}\\mathrm{vec}(X)\n",
        "\\end{bmatrix} = \\begin{bmatrix}\n",
        "b_{11} A_1 \\  b_{21}A_1 \\ ... \\  b_{m1}A_1  \\\\\n",
        " b_{11} A_2 \\  b_{21}A_2 \\ ... \\  b_{m1}A_2  \\\\\n",
        "... \\\\\n",
        " b_{11} A_k \\  b_{21}A_k \\ ... \\  b_{m1}A_k \\\\\n",
        " b_{12} A_1 \\  b_{22}A_1 \\ ... \\  b_{m2}A_1  \\\\\n",
        "... \\\\\n",
        " b_{1n} A_k \\  b_{2n}A_k \\ ... \\  b_{mn}A_k \n",
        "\\end{bmatrix} \\mathrm{vec}(X) =  \\begin{bmatrix}\n",
        "b_{11} A \\  b_{21}A \\ ... \\  b_{m1}A  \\\\\n",
        " b_{12} A \\  b_{22}A \\ ... \\  b_{m2}A  \\\\\n",
        "... \\\\\n",
        " b_{1n} A \\  b_{2n}A \\ ... \\  b_{mn}A\n",
        "\\end{bmatrix} \\mathrm{vec}(X) = (B^\\top \\otimes A)\\, \\mathrm{vec}(X)$$\n",
        "\n",
        "**In columnwise** reshape we will obtain $(AXB)_{ij} = \\sum_{p=1}^{l}a_{ip}(\\sum_{t=1}^mx_{pt}b_{tj}) = \\sum_{t=1}^mb_{tj}(\\sum_{p=1}^la_{ip}x_{pt}) = b_{1j}(a_{i1}x_{11} + a_{i2}x_{21} +...+a_{il}x_{l1}) + b_{2j}(a_{i1}x_{12} + a_{i2}x_{22} +...+a_{il}x_{l2}) + ... + b_{mj}(a_{i1}x_{1m} + a_{i2}x_{2m} +...+a_{il}x_{lm}) = \\begin{bmatrix} x_{11} \\  x_{12} \\ ... \\ x_{1m} \\  x_{21} \\ ... \\  x_{lm} \\end{bmatrix}\\begin{bmatrix}\n",
        "b_{1j}a_{i1} \\\\\n",
        "b_{2j}a_{i1} \\\\\n",
        "... \\\\\n",
        "b_{mj}a_{i1} \\\\\n",
        "b_{1j}a_{i2} \\\\\n",
        "... \\\\\n",
        "b_{mj}a_{il}\n",
        "\\end{bmatrix} = \\mathrm{vec'}(X) \\begin{bmatrix}\n",
        "B^{j}a_{i1} \\\\\n",
        "B^{j}a_{i2} \\\\\n",
        "... \\\\\n",
        "B^{j}a_{il}\n",
        "\\end{bmatrix}$\n",
        "\n",
        "where $B^j-j'th$ column of $B$. So\n",
        "\n",
        "$\\mathrm{vec'}(ABC) = \\begin{bmatrix}\n",
        "\\mathrm{vec'}(X) \\begin{bmatrix}\n",
        "B^{1}a_{11} \\\\\n",
        "B^{1}a_{12} \\\\\n",
        "... \\\\\n",
        "B^{1}a_{1l}\n",
        "\\end{bmatrix} \\\n",
        "\\mathrm{vec'}(X) \\begin{bmatrix}\n",
        "B^{2}a_{11} \\\\\n",
        "B^{2}a_{12} \\\\\n",
        "... \\\\\n",
        "B^{2}a_{1l}\n",
        "\\end{bmatrix} \\\n",
        "... \\\n",
        "\\mathrm{vec'}(X) \\begin{bmatrix}\n",
        "B^{n}a_{11} \\\\\n",
        "B^{n}a_{12} \\\\\n",
        "... \\\\\n",
        "B^{n}a_{1l}\n",
        "\\end{bmatrix} \\\n",
        "\\mathrm{vec'}(X) \\begin{bmatrix}\n",
        "B^{1}a_{21} \\\\\n",
        "B^{1}a_{22} \\\\\n",
        "... \\\\\n",
        "B^{1}a_{2l}\n",
        "\\end{bmatrix} \\\n",
        "... \\ \n",
        "\\mathrm{vec'}(X) \\begin{bmatrix}\n",
        "B^{n}a_{k1} \\\\\n",
        "B^{n}a_{k2} \\\\\n",
        "... \\\\\n",
        "B^{n}a_{kl}\n",
        "\\end{bmatrix} \\\n",
        "\\end{bmatrix} = \\mathrm{vec'}(X) \\begin{bmatrix}\n",
        " B a_{11} \\ B a_{21} \\ ... \\ B a_{k1} \\\\\n",
        " B a_{12} \\ B a_{22} \\ ... \\ B a_{k2} \\\\\n",
        "... \\\\\n",
        " B a_{1l} \\ B a_{2l} \\ ... \\ B a_{kl} \\\\\n",
        "\\end{bmatrix} = \\mathrm{vec'}(X) (A^\\top \\otimes B)$\n",
        "*   Naively we should do $a_{ij}B-mn$ multiplications $kl$ times (assume dimensions from previous point) and when obtain a matrix of dimension $km \\times nl$ do a multiplication with vector $x$ which requires $kmnl$ multiplications. So overall $2mnkl\\ = \\ O(mnkl)$. We can reduce it to by using formula above as $\\mathrm{vec}(BXA^T) = (A \\otimes B) \\mathrm{vec}(X)$. Here we will need $mnl + mlk = ml(n+k)$ multiplications. \n",
        "\n",
        "\n",
        "\n",
        "*   $Ax = λ_Ax,\\ By = λ_By$ where $x,\\ y -$ eigenvectors if $A,\\ B$ respectively, $λ_A,\\ λ_B - $ corresponding eigenvalues. $(A\\otimes I + I \\otimes B)(x \\otimes y) = Ax \\otimes y + x \\otimes By = λ_A x \\otimes y + x \\otimes λ_B y = (λ_A + λ_B)(x \\otimes y )$. Since that eigenvalues of $A\\otimes I + I \\otimes B$ are $n^2$ elements of kind $\\lambda_A^i + \\lambda_B^j,\\ i,j\\in [1,\\ n]$ and eigenvectors are $x^i \\otimes y^j $ respectively.\n",
        "* * Richardson: $λ_{min} = \\frac{1}{1000},\\ \\lambda_{max} = 1000 \\Rightarrow q = \\frac{10^6 -1}{10^6 + 1}.\\ \\frac{\\| e_k \\|} {\\| e_0 \\|} \\le q^k = 10^{-4} \\Rightarrow k \\approx 4`605`171$\n",
        "\n",
        "  * Chebyshev: $q = \\frac{\\sqrt{cond(A)} - 1}{\\sqrt{cond(A)} + 1} = \\frac{10^3 - 1}{10^3 + 1}.\\  \\frac{\\| e_k \\|} {\\| e_0 \\|} \\le Cq^k = 10^{-4},\\ C=2 \\Rightarrow k \\approx 4952$\n",
        "\n",
        "  * CG: $\\frac{\\| e_k \\|} {\\| e_0 \\|} \\le γ \\big(\\frac{\\sqrt{cond(A)}-1}{\\sqrt{cond(A)}+1}\\big)^k,\\ γ=2 \\Rightarrow k \\approx 4952$"
      ]
    },
    {
      "cell_type": "code",
      "execution_count": 42,
      "metadata": {
        "id": "JyL8jQzoZ7Ul"
      },
      "outputs": [],
      "source": [
        "import numpy as np\n",
        "\n",
        "A = np.zeros((1001, 1001), dtype=np.float32)\n",
        "for i in range(999):\n",
        "  A[i, i] = (i + 1) / 1000.0\n",
        "A[999, 999] = 1\n",
        "A[1000, 1000] = 1000\n",
        "\n",
        "def f():\n",
        "  return np.array([(i + 1) / 1000.0 for i in range(999)] + [1, 1000])\n",
        "\n",
        "x_0 = np.zeros(1001, dtype=np.float32)\n",
        "x_s = np.linalg.inv(A) @ f()\n",
        "tau = 2 / (1000 + 1 / 1000.0)\n",
        "\n",
        "rel_errors = []\n",
        "\n",
        "def Richardson(x_0, A, f):\n",
        "  iter_cnt = 1\n",
        "  x_k = x_0\n",
        "  x = x_k - tau * (A @ x_k - f())\n",
        "  while np.linalg.norm(x - x_s) / np.linalg.norm(x) > 1e-4:\n",
        "    err = np.linalg.norm(x - x_s) / np.linalg.norm(x)\n",
        "    rel_errors.append(err)\n",
        "    x_k = x\n",
        "    x = x_k - tau * (A @ x_k - f())\n",
        "    iter_cnt += 1\n",
        "  \n",
        "  return iter_cnt\n"
      ]
    },
    {
      "cell_type": "code",
      "execution_count": 43,
      "metadata": {
        "colab": {
          "base_uri": "https://localhost:8080/"
        },
        "id": "tgSnrhQ_n8J5",
        "outputId": "22f623e1-ac49-45cd-de41-650a78590cdf"
      },
      "outputs": [
        {
          "name": "stdout",
          "output_type": "stream",
          "text": [
            "CPU times: user 1h 54min 34s, sys: 1h 17min 49s, total: 3h 12min 23s\n",
            "Wall time: 1h 37min 52s\n"
          ]
        },
        {
          "data": {
            "text/plain": [
              "3051263"
            ]
          },
          "execution_count": 43,
          "metadata": {},
          "output_type": "execute_result"
        }
      ],
      "source": [
        "%time Richardson(x_0, A, f)"
      ]
    },
    {
      "cell_type": "markdown",
      "metadata": {
        "id": "eVxS2lDHiTuD"
      },
      "source": [
        "Practically $3051263 < 4605171$. Good? Good."
      ]
    },
    {
      "cell_type": "code",
      "execution_count": null,
      "metadata": {
        "colab": {
          "base_uri": "https://localhost:8080/",
          "height": 292
        },
        "id": "fAcZ8p4IjCqt",
        "outputId": "18836ebe-9bf4-4b13-dfc9-aa58e69e2ce2"
      },
      "outputs": [
        {
          "data": {
            "image/png": "[encoded data removed]",
            "text/plain": [
              "<Figure size 432x288 with 1 Axes>"
            ]
          },
          "metadata": {
            "needs_background": "light"
          },
          "output_type": "display_data"
        }
      ],
      "source": [
        "import matplotlib.pyplot as plt\n",
        "\n",
        "plt.plot(rel_errors, label='Richardson')\n",
        "plt.legend(fontsize=14)\n",
        "plt.xlabel(\"Number of iteration\", fontsize=20)\n",
        "plt.ylabel(\"Relative error\", fontsize=20)\n",
        "plt.xticks(fontsize=14)\n",
        "plt.yticks(fontsize=14)\n",
        "plt.show()"
      ]
    },
    {
      "cell_type": "code",
      "execution_count": 21,
      "metadata": {
        "colab": {
          "base_uri": "https://localhost:8080/"
        },
        "id": "fb79ohQHitsZ",
        "outputId": "6d667789-88f7-4fab-d454-9255aa4092e0"
      },
      "outputs": [
        {
          "name": "stdout",
          "output_type": "stream",
          "text": [
            "number of iterations: 5602\n"
          ]
        }
      ],
      "source": [
        "lam_max = 1000.0\n",
        "lam_min = 1 / 1000.0\n",
        "\n",
        "niters = int(2e4)\n",
        "roots = [np.cos((np.pi * (2 * i + 1)) / (2 * niters)) for i in range(niters)]\n",
        "taus = [(lam_max + lam_min - (lam_min - lam_max) * r) / 2 for r in roots]\n",
        "rhs = f()\n",
        "x = np.zeros(1001)\n",
        "r = A.dot(x) - rhs\n",
        "rel_cheb = []\n",
        "eps = 1e-4\n",
        "\n",
        "def shuffle(idx):\n",
        "  if len(idx) == 1:\n",
        "    return idx\n",
        "  else:\n",
        "    l = len(idx) // 2 + len(idx) % 2\n",
        "    new_idx = shuffle(idx[:l])\n",
        "    perm = []\n",
        "    count = 0\n",
        "    for i in new_idx:\n",
        "      perm.append(i)\n",
        "      count += 1\n",
        "      if count == len(idx):\n",
        "        break\n",
        "      perm.append(len(idx) + 1 - i)\n",
        "      count += 1\n",
        "      if count == len(idx):\n",
        "        break\n",
        "  return perm\n",
        "\n",
        "good_perm = shuffle([i for i in range(1, niters+1)])\n",
        "\n",
        "for i in range(niters):\n",
        "    x = x - 1.0 / taus[good_perm[i] - 1] * r\n",
        "    r = A.dot(x) - rhs\n",
        "    rel_cheb.append(np.linalg.norm(x - x_s) / np.linalg.norm(x))\n",
        "    if rel_cheb[-1] <= eps:\n",
        "        print(f'number of iterations: {len(rel_cheb)}')\n",
        "        break"
      ]
    },
    {
      "cell_type": "code",
      "execution_count": 22,
      "metadata": {
        "colab": {
          "base_uri": "https://localhost:8080/",
          "height": 292
        },
        "id": "IzXNUQsoi60d",
        "outputId": "e0ec9b8b-dd16-40fc-c93a-63bfdeecfe45"
      },
      "outputs": [
        {
          "data": {
            "image/png": "[encoded data removed]",
            "text/plain": [
              "<Figure size 432x288 with 1 Axes>"
            ]
          },
          "metadata": {
            "needs_background": "light"
          },
          "output_type": "display_data"
        }
      ],
      "source": [
        "plt.plot(rel_cheb, label='Chebyshev')\n",
        "plt.legend(fontsize=14)\n",
        "plt.xlabel(\"Number of iteration\", fontsize=20)\n",
        "plt.ylabel(\"Relative error\", fontsize=20)\n",
        "plt.xticks(fontsize=14)\n",
        "plt.yticks(fontsize=14)\n",
        "plt.show()"
      ]
    },
    {
      "cell_type": "code",
      "execution_count": 44,
      "metadata": {
        "id": "KWFYzVwkiA0P"
      },
      "outputs": [],
      "source": [
        "rel_cg = []\n",
        "x = np.zeros(1001)\n",
        "\n",
        "def CG(A, x, rhs, eps):\n",
        "  r = rhs - A @ x\n",
        "  err = r.T @ r\n",
        "  i, p = 0, r\n",
        "  while True:\n",
        "    Ap = A @ p\n",
        "    pAp = p.T @ Ap\n",
        "    alpha = err / pAp\n",
        "    x = x + alpha * p\n",
        "    r = r - alpha * Ap\n",
        "    new_err = r.T @ r\n",
        "    beta = new_err / err\n",
        "    abs_err = np.sum((A @ (x - x_s)) * (x - x_s)) ** 0.5\n",
        "    mat_norm = np.sum((A @ x) * x) ** 0.5\n",
        "    rel_cg.append(abs_err / mat_norm)\n",
        "    p = r + beta * p\n",
        "    err = new_err\n",
        "    i += 1\n",
        "    if rel_cg[-1] < eps:\n",
        "      return\n",
        "\n",
        "\n",
        "CG(A, x, f(), 1e-4)"
      ]
    },
    {
      "cell_type": "code",
      "execution_count": 45,
      "metadata": {
        "colab": {
          "base_uri": "https://localhost:8080/",
          "height": 292
        },
        "id": "BHu7Q2hoj-hY",
        "outputId": "54535cba-ca60-4403-b315-726c18ea112b"
      },
      "outputs": [
        {
          "data": {
            "image/png": "[encoded data removed]",
            "text/plain": [
              "<Figure size 432x288 with 1 Axes>"
            ]
          },
          "metadata": {
            "needs_background": "light"
          },
          "output_type": "display_data"
        }
      ],
      "source": [
        "plt.plot(rel_cg, label='conjugate gradient')\n",
        "plt.legend(fontsize=14)\n",
        "plt.xlabel(\"Number of iteration\", fontsize=20)\n",
        "plt.ylabel(\"Relative error\", fontsize=20)\n",
        "plt.xticks(fontsize=14)\n",
        "plt.yticks(fontsize=14)\n",
        "plt.show()"
      ]
    },
    {
      "cell_type": "markdown",
      "metadata": {
        "id": "7lcuOy8gnciP"
      },
      "source": [
        "This is much less than expected. Good? Good."
      ]
    },
    {
      "cell_type": "markdown",
      "metadata": {
        "id": "dh0nKsm46hpo"
      },
      "source": [
        "## Problem 2 (65 pts)\n",
        "### On the performance of conjugate gradient method for BTTB matrices.\n",
        "\n",
        "You are given 2D image (QR-code) and convolution operator $T$. The application of $T$ results in smoothing of the image. In exact arithmetic, the proposed $T$ is non-singular. However, it becomes rather ill-conditioned with increasing $N$ in finite precision arithmetic. In this task you need to study how the conjugate gradient method performs in this case."
      ]
    },
    {
      "cell_type": "markdown",
      "metadata": {
        "id": "3gi5DJJz6hps"
      },
      "source": [
        "The original passcode is given below:"
      ]
    },
    {
      "cell_type": "code",
      "execution_count": 72,
      "metadata": {
        "colab": {
          "base_uri": "https://localhost:8080/",
          "height": 265
        },
        "id": "mxPusfbx6hps",
        "outputId": "79b4cb53-af03-46f7-e7e4-5f1a46d0975e"
      },
      "outputs": [
        {
          "data": {
            "text/plain": [
              "(-0.5, 329.5, 329.5, -0.5)"
            ]
          },
          "execution_count": 72,
          "metadata": {},
          "output_type": "execute_result"
        },
        {
          "data": {
            "image/png": "[encoded data removed]",
            "text/plain": [
              "<Figure size 432x288 with 1 Axes>"
            ]
          },
          "metadata": {
            "needs_background": "light"
          },
          "output_type": "display_data"
        }
      ],
      "source": [
        "import matplotlib.pyplot as plt\n",
        "x = plt.imread('qrcode.gif')[:,:,0]\n",
        "n = x.shape[0]\n",
        "plt.imshow(x, cmap=\"gray\")\n",
        "plt.axis(\"off\")"
      ]
    },
    {
      "cell_type": "markdown",
      "metadata": {
        "id": "uHzqVBAK6hpu"
      },
      "source": [
        "Blurring can be performed by convolving $n\\times n$ QR-code with the following filter:\n",
        "\n",
        "$$T_{i_1j_1,i_2j_2} = T_{i_1-j_1,i_2-j_2} = \\frac{\\alpha}{\\pi}e^{-\\alpha[(i_1-j_1)^2 + (i_2-j_2)^2]}, \\quad i_1,j_1,i_2,j_2 = 1 \\ldots n, \\quad 1 > \\alpha > 0.$$\n",
        "\n",
        "You know from lectures that this convolution can be viewed as a matrix-vector multiplication of some BTTB matrix $T$ of size $n^2 \\times n^2$."
      ]
    },
    {
      "cell_type": "markdown",
      "metadata": {
        "id": "nQSQVkG86hpu"
      },
      "source": [
        "## Task 1 (15 pts) \n",
        "\n",
        "- Write function `T_matvec()` that performs multiplication of $T$ by a given vector $x$ efficiently. Remember about FFT.\n",
        "- Use `scipy.sparse.linalg.LinearOperator` to create an object that has attribute `.dot()` (this object will be further used in the iterative process). Note that `.dot()` input and output must be 1D vectors, so do not forget to use reshape."
      ]
    },
    {
      "cell_type": "code",
      "execution_count": 73,
      "metadata": {
        "id": "Y_9mS0wbzg4c"
      },
      "outputs": [],
      "source": [
        "import numpy as np\n",
        "from scipy import linalg\n",
        "from scipy.sparse.linalg import LinearOperator\n",
        "from scipy.linalg import toeplitz"
      ]
    },
    {
      "cell_type": "code",
      "execution_count": 74,
      "metadata": {
        "id": "OUH9TShIuuXJ"
      },
      "outputs": [],
      "source": [
        "def toeplitz_check(x, alpha):\n",
        "  \"\"\"\n",
        "  Stores all full toeplitz matrices\n",
        "  doesn't use fft\n",
        "  *only for check*\n",
        "  \"\"\"\n",
        "  T = []\n",
        "  n = int(len(x) ** 0.5)\n",
        "  for i in range(n):\n",
        "    c = [alpha / np.pi * np.exp(-alpha * (i**2 + j**2)) for j in range(n)]\n",
        "    Ti = toeplitz(c)\n",
        "    T.append(np.array([list(t) for t in Ti]).reshape(n,n))\n",
        "  bt = T[0]\n",
        "  for j in range(1,n):\n",
        "    bt = np.hstack((bt, T[abs(j)]))\n",
        "  bttb = bt\n",
        "  for i in range(1,n):\n",
        "    bt = T[i]\n",
        "    for j in range(1,n):\n",
        "      bt = np.hstack((bt, T[abs(i-j)]))\n",
        "    bttb = np.vstack((bttb, bt))\n",
        "  return np.dot(bttb, x)"
      ]
    },
    {
      "cell_type": "code",
      "execution_count": 75,
      "metadata": {
        "id": "SKiL6Iky6hpv"
      },
      "outputs": [],
      "source": [
        "def T_matvec(x, alpha):\n",
        "    \"\"\"\n",
        "    I didn't use fft here\n",
        "    because as I will show below T = T_block x T_block (tensor multiplication)\n",
        "    so I'd prefered to use property from task above: (T x T)vec(X) = vec(TXT)\n",
        "    it stores T_block but works pretty fast\n",
        "    \"\"\"\n",
        "    n = int(len(x) ** 0.5)\n",
        "    col = [np.exp(- alpha * (j)**2) for j in range(n)]\n",
        "    Ti = toeplitz(col)\n",
        "    x_mat = np.array(x).reshape(n, n).T\n",
        "    return ((Ti @ x_mat) @ Ti).T.ravel() * alpha / np.pi\n",
        "\n",
        "def T_matvec_fft(x, alpha):\n",
        "    \"\"\"\n",
        "    With fft but works slower than method above\n",
        "    \"\"\"\n",
        "    n = int(len(x) ** 0.5)\n",
        "    c = [alpha / np.pi * np.exp(- alpha * (j)**2) for j in range(n)]\n",
        "    t = np.hstack((c, c[::-1][:-1]))\n",
        "    for i in range(1, n):\n",
        "      c = [alpha / np.pi * np.exp(- alpha * ((i)**2 + (j)**2)) for j in range(n)]\n",
        "      t1 = np.hstack((c, c[::-1][:-1]))\n",
        "      t = np.vstack((t, t1))\n",
        "    if n == 1:\n",
        "      x_mat = np.array(x).reshape(n, n).T\n",
        "      pad = np.zeros((2*n-1, 2*n-1), dtype=complex)\n",
        "      pad[:n, :n] = x_mat\n",
        "      return (np.fft.ifftn(np.fft.fftn(t.T) * np.fft.fftn(pad))[:n, :n]).ravel()\n",
        "    t = np.vstack((t, t[:-n:-1]))\n",
        "    x_mat = np.array(x).reshape(n, n).T\n",
        "    pad = np.zeros((2*n-1, 2*n-1), dtype=complex)\n",
        "    pad[:n, :n] = x_mat\n",
        "    return (np.fft.ifft2(np.fft.fft2(t.T) * np.fft.fft2(pad))[:n, :n]).ravel()\n",
        "\n",
        "# testing\n",
        "alpha = 0.01\n",
        "x_t = np.ones(400).astype(float)\n",
        "\n",
        "T = LinearOperator((len(x_t), len(x_t)), matvec = lambda x: T_matvec(x, alpha=alpha))\n",
        "y = T.matvec(x_t)\n",
        "assert np.allclose(y, toeplitz_check(x_t, alpha))\n",
        "\n",
        "T = LinearOperator((len(x_t), len(x_t)), matvec = lambda x: T_matvec_fft(x, alpha=alpha))\n",
        "y = T.matvec(x_t)\n",
        "assert np.allclose(y, toeplitz_check(x_t, alpha))"
      ]
    },
    {
      "cell_type": "code",
      "execution_count": 76,
      "metadata": {
        "id": "xsMnUnAyXcRW"
      },
      "outputs": [],
      "source": [
        "x = x.T.ravel().astype(float)\n",
        "T = LinearOperator((len(x), len(x)), matvec = lambda x: T_matvec(x, alpha=alpha))\n",
        "y = T.matvec(x)\n",
        "\n",
        "#assert np.allclose(y, toeplitz_check(x, alpha))  #better not to uncomment"
      ]
    },
    {
      "cell_type": "markdown",
      "metadata": {
        "id": "Vpj3Llkc6hpv"
      },
      "source": [
        "**Remark.** The obtained matrix $T$ is positive definite (at least in the exact arithmetic), hence the conjugate gradient method can be applied to solve with $T$.\n",
        "\n",
        "**Bonus question: Prove the remark above.**"
      ]
    },
    {
      "cell_type": "markdown",
      "metadata": {
        "id": "4UMOUpwrpyuu"
      },
      "source": [
        "\n",
        "\n",
        "---\n",
        "\n"
      ]
    },
    {
      "cell_type": "markdown",
      "metadata": {
        "id": "h_sM0XyKJteO"
      },
      "source": [
        "Our blocks can be interpreted as $\n",
        "\\frac{\\alpha}{\\pi} e^{-α i^2} \\begin{bmatrix}  e^{0} &  e^{-α} & ... &  e^{-α (n-1)^2}  \\\\ \n",
        "e^{-α} &  e^{0} & ... &  e^{-α (n-1)^2} \\\\\n",
        " ... \\\\ \n",
        "e^{-α(n-1)^2} &  e^{-α(n-2)^2} & ... &  e^{0}\n",
        "  \\end{bmatrix} = \\frac{\\alpha}{\\pi} e^{-α i^2} T_{block}\\ $ where $i \\in [0,\\ n-1]$\n",
        "\n",
        "Since that $T = \\begin{bmatrix}  \\frac{\\alpha}{\\pi} e^{0}T_{block} &  \\frac{\\alpha}{\\pi} e^{-α}T_{block} & ... & \\frac{\\alpha}{\\pi} e^{-α(n-1)^2}T_{block}\\\\ \n",
        "\\frac{\\alpha}{\\pi} e^{-α}T_{block} &  \\frac{\\alpha}{\\pi} e^{0}T_{block} & ... & \\frac{\\alpha}{\\pi} e^{-α(n-2)^2}T_{block}\\\\ \n",
        " ... \\\\ \n",
        "\\frac{\\alpha}{\\pi} e^{-α(n-1)^2}T_{block} &  \\frac{\\alpha}{\\pi} e^{-α(n-2)^2}T_{block} & ... & \\frac{\\alpha}{\\pi} e^{0}T_{block}\\\\ \n",
        "  \\end{bmatrix} = \\frac{α}{\\pi} (T_{block} \\otimes T_{block})$\n",
        "\n",
        "Eigenvalues of $T$ will be $λ_i\\cdotλ_j,\\ i,j \\in [1,n]-$ eigenvalues of $T_{block}$. Since $α > 0$ for $T$ being positive definite it's enough that $T_{block}$ is positive definite. And that is so, because $T_{block}$ is Gram matrix for [RBF](https://en.wikipedia.org/wiki/Radial_basis_function_kernel) with $γ=α\\ \\Rightarrow λ_i > 0$ for all $1 \\le i \\le n$."
      ]
    },
    {
      "cell_type": "markdown",
      "metadata": {
        "id": "fyoFYerG6hpw"
      },
      "source": [
        "## Task 2 (10 pts) \n",
        "- For $\\alpha \\in \\{ 0.1, 0.01,0.001\\}$ compute $y=Tx$ and deconvolve $x$ using `scipy.sparse.linalg.cg` with $tol \\in \\{10^{-3}, 10^{-4}, 10^{-5}, 10^{-6}, 10^{-7}\\}$. For each pair $\\alpha$, $tol$ write out `num_iters` and relative error $e = \\frac{\\|x - x^*\\|_2}{\\|x\\|_2}$ .\n",
        "- Comment on the results: \n",
        "\n",
        "    1) why the relative error does not converge to zero? \n",
        "    \n",
        "    2) why the relative error converges to different values for different $\\alpha$?"
      ]
    },
    {
      "cell_type": "code",
      "execution_count": 77,
      "metadata": {
        "id": "1ZziAoPv6hpw"
      },
      "outputs": [],
      "source": [
        "from scipy.sparse.linalg import cg \n",
        "\n",
        "class Counter:\n",
        "  def __init__(self, rhs=None, A=None):\n",
        "    self.niter = 0\n",
        "    self.rhs = rhs\n",
        "    self.A = A\n",
        "  def __call__(self, *args):\n",
        "    self.niter += 1\n",
        "    if self.rhs is not None and self.A is not None:\n",
        "      print(np.linalg.norm(self.rhs - self.A @ args[0]))"
      ]
    },
    {
      "cell_type": "code",
      "execution_count": 78,
      "metadata": {
        "id": "pnzdS469TZE8"
      },
      "outputs": [],
      "source": [
        "from tqdm.notebook import tqdm\n",
        "from joblib import Parallel, delayed\n",
        "from itertools import product\n",
        "import scipy as sp"
      ]
    },
    {
      "cell_type": "code",
      "execution_count": 79,
      "metadata": {
        "id": "AVTYNwKctIwX"
      },
      "outputs": [],
      "source": [
        "def calc(arg):\n",
        "  alpha, tol, x = arg\n",
        "  counter = Counter()\n",
        "  x_0 = np.copy(x)\n",
        "  T = LinearOperator((len(x_0), len(x_0)), matvec = lambda x: T_matvec(x, alpha=alpha))\n",
        "  y = T.matvec(x_0)\n",
        "  res, _ = cg(T, y, tol=tol, callback=counter)\n",
        "  return counter.niter, np.linalg.norm(res - x_0) / np.linalg.norm(res)"
      ]
    },
    {
      "cell_type": "code",
      "execution_count": null,
      "metadata": {
        "id": "Cka38PzktiPl"
      },
      "outputs": [],
      "source": [
        "alphas = [0.1, 0.01, 0.001]\n",
        "tols = [0.001, 0.0001, 0.00001, 0.000001, 0.0000001]\n",
        "\n",
        "results = Parallel(n_jobs=-1, verbose=51, backend=\"threading\")(\n",
        "    map(delayed(calc), ((a, t, x) for a, t in list(product(alphas, tols)))))"
      ]
    },
    {
      "cell_type": "markdown",
      "metadata": {
        "id": "G4Hl2e1vPAd8"
      },
      "source": [
        "alpha | tol | num_iters | relative_error\n",
        "--- | --- | --- | --- \n",
        "0.1 | 0.001 | 11 | 0.1297\n",
        "0.1 | 0.0001 | 46 | 0.1025\n",
        "0.1 | 0.00001 | 136 | 0.0963 \n",
        "0.1 | 0.000001 | 792 | 0.0724\n",
        "0.1 | 0.0000001 | 2409 | 0.0669\n",
        "0.01 | 0.001 | 18 | 0.2209\n",
        "0.01 | 0.0001 | 53 | 0.2063\n",
        "0.01 | 0.00001 | 168 | 0.2018\n",
        "0.01 | 0.000001 | 541 | 0.1988\n",
        "0.01 | 0.0000001 | 2393 | 0.1934\n",
        "0.001 | 0.001 | 13 | 0.4861\n",
        "0.001 | 0.0001 | 49 | 0.4641\n",
        "0.001 | 0.00001 | 170 | 0.4364\n",
        "0.001 | 0.000001 | 492 | 0.4129\n",
        "0.001 | 0.0000001 | 1462 | 0.3985"
      ]
    },
    {
      "cell_type": "code",
      "execution_count": 80,
      "metadata": {
        "colab": {
          "base_uri": "https://localhost:8080/"
        },
        "id": "cvSpH599HqoT",
        "outputId": "9986086f-cb72-41f9-ac3a-1387e74a3a19"
      },
      "outputs": [
        {
          "name": "stdout",
          "output_type": "stream",
          "text": [
            "cond for T with alpha = 0.1: 6.59051020872641e+20\n"
          ]
        }
      ],
      "source": [
        "c = [0.1 / np.pi * np.exp(-0.1 * (j**2)) for j in range(n)]\n",
        "T_block = toeplitz(c)\n",
        "eigenvalues = np.linalg.eig(T_block)[0]\n",
        "cond  = max(eigenvalues) / min(eigenvalues)\n",
        "print(f\"cond for T with alpha = 0.1: {cond**2}\")"
      ]
    },
    {
      "cell_type": "code",
      "execution_count": 81,
      "metadata": {
        "colab": {
          "base_uri": "https://localhost:8080/"
        },
        "id": "ZiNKUdkBJwh0",
        "outputId": "8e9efd51-a177-4bfc-b8d7-d25eb0aa5631"
      },
      "outputs": [
        {
          "name": "stdout",
          "output_type": "stream",
          "text": [
            "cond for T with alpha = 0.01: (4.4608001000808876e+32+0j)\n"
          ]
        }
      ],
      "source": [
        "c = [0.01 / np.pi * np.exp(-0.01 * (j**2)) for j in range(n)]\n",
        "T_block = toeplitz(c)\n",
        "eigenvalues = np.linalg.eig(T_block)[0]\n",
        "cond  = max(eigenvalues) / min(eigenvalues)\n",
        "print(f\"cond for T with alpha = 0.01: {cond**2}\")"
      ]
    },
    {
      "cell_type": "code",
      "execution_count": 82,
      "metadata": {
        "colab": {
          "base_uri": "https://localhost:8080/"
        },
        "id": "bkZjBwhSJzxw",
        "outputId": "2fe062ee-ec55-4577-952e-558ba1bc53cb"
      },
      "outputs": [
        {
          "name": "stdout",
          "output_type": "stream",
          "text": [
            "cond for T with alpha = 0.001: (7.831962040821843e+32+0j)\n"
          ]
        }
      ],
      "source": [
        "c = [0.001 / np.pi * np.exp(-0.001 * (j**2)) for j in range(n)]\n",
        "T_block = toeplitz(c)\n",
        "eigenvalues = np.linalg.eig(T_block)[0]\n",
        "cond  = max(eigenvalues) / min(eigenvalues)\n",
        "print(f\"cond for T with alpha = 0.001: {cond**2}\")"
      ]
    },
    {
      "cell_type": "markdown",
      "metadata": {
        "id": "6YMc4BzyVX-I"
      },
      "source": [
        "As you can see the condition value of T is very large $\\Rightarrow$ convergence rate is very low and CG doesn't converge to zero. With decreasing of $\\alpha$ the condition value increases, hence CG converges very bad. \n",
        "\n"
      ]
    },
    {
      "cell_type": "code",
      "execution_count": 83,
      "metadata": {
        "id": "elSrVJPjKdff"
      },
      "outputs": [],
      "source": [
        "np.random.seed(131)\n",
        "alpha = 0.01\n",
        "\n",
        "T = LinearOperator((len(x), len(x)), matvec = lambda x: T_matvec(x, alpha=alpha))\n",
        "y = T.matvec(x)\n",
        "y_hat = y + np.random.randn(y.shape[0])"
      ]
    },
    {
      "cell_type": "markdown",
      "metadata": {
        "id": "lJ4XOLfw6hpx"
      },
      "source": [
        "In all further tasks fix $\\alpha = 0.01$. Compute $y = Tx$, and add vector with Gaussian noise from $\\mathcal{N}(0, 1)$ to $y$ and get the final right-hand side $\\hat{y}$.\n",
        "\n",
        "## Task 3 (10 pts)\n",
        "- Try to deconvolve $\\hat{y}$ with matrix $T$ using $tol=10^{-5}$ in CG. Explain, why CG does not converge.\n",
        "- Suggest how CG can still be used to recover $x$. What are drawbacks of the suggested approach?"
      ]
    },
    {
      "cell_type": "markdown",
      "metadata": {
        "id": "9Z4hupKcrBPu"
      },
      "source": [
        "\n",
        "\n",
        "---\n",
        "\n"
      ]
    },
    {
      "cell_type": "markdown",
      "metadata": {
        "id": "3bSOFu7DP7xa"
      },
      "source": [
        "*  Here I added output of $\\|y_{hat} - T x\\|$. It is **increasing** and it indicates that \n",
        "process doesn't converge."
      ]
    },
    {
      "cell_type": "code",
      "execution_count": 11,
      "metadata": {
        "colab": {
          "base_uri": "https://localhost:8080/",
          "height": 1000
        },
        "id": "0__B1c2CSGbT",
        "outputId": "2e35a088-6282-4bd6-855c-571a61b437cf"
      },
      "outputs": [
        {
          "name": "stdout",
          "output_type": "stream",
          "text": [
            "5815.995781996277\n",
            "2846.244538987975\n",
            "1479.333597206563\n",
            "1134.7126820698102\n",
            "916.035192028253\n",
            "733.4760390828067\n",
            "780.7037538048105\n",
            "942.2911457131352\n",
            "1139.7114470835902\n",
            "1530.8859075879293\n",
            "1857.8854988820262\n",
            "2256.8134513217597\n",
            "2676.9047590294567\n",
            "3202.0675261451893\n",
            "3928.2178344847766\n",
            "4261.360736114586\n",
            "5863.465853423601\n",
            "6566.534888981842\n",
            "6954.145648134103\n",
            "8489.77614503523\n",
            "8709.729414383293\n",
            "10222.843536401528\n",
            "11647.393616043386\n",
            "11824.846822912943\n",
            "12985.16304567143\n",
            "13863.313336026029\n",
            "14208.944444363453\n",
            "15909.142936477168\n",
            "16280.769658386713\n",
            "15867.153946203625\n",
            "15455.414967501243\n",
            "15762.320200697499\n",
            "17340.149388652197\n",
            "19678.104964483362\n",
            "20298.576165107224\n",
            "18259.431922556214\n",
            "18219.05325591632\n",
            "18775.345602517955\n",
            "20173.194569002793\n",
            "20745.643529145767\n",
            "20898.759125041874\n",
            "18593.25107573901\n",
            "19556.226354182894\n",
            "21159.21636361656\n",
            "20248.80997884583\n",
            "21936.34970409643\n",
            "20680.880742914007\n",
            "21449.93413007697\n",
            "22160.789312687528\n"
          ]
        },
        {
          "ename": "KeyboardInterrupt",
          "evalue": "ignored",
          "output_type": "error",
          "traceback": [
            "\u001b[0;31m---------------------------------------------------------------------------\u001b[0m",
            "\u001b[0;31mKeyboardInterrupt\u001b[0m                         Traceback (most recent call last)",
            "\u001b[0;32m<ipython-input-11-a5efe67903cd>\u001b[0m in \u001b[0;36m<module>\u001b[0;34m()\u001b[0m\n\u001b[1;32m      1\u001b[0m \u001b[0mcounter\u001b[0m \u001b[0;34m=\u001b[0m \u001b[0mCounter\u001b[0m\u001b[0;34m(\u001b[0m\u001b[0my_hat\u001b[0m\u001b[0;34m,\u001b[0m \u001b[0mT\u001b[0m\u001b[0;34m)\u001b[0m\u001b[0;34m\u001b[0m\u001b[0;34m\u001b[0m\u001b[0m\n\u001b[0;32m----> 2\u001b[0;31m \u001b[0mres\u001b[0m\u001b[0;34m,\u001b[0m \u001b[0m_\u001b[0m \u001b[0;34m=\u001b[0m \u001b[0mcg\u001b[0m\u001b[0;34m(\u001b[0m\u001b[0mT\u001b[0m\u001b[0;34m,\u001b[0m \u001b[0my_hat\u001b[0m\u001b[0;34m,\u001b[0m \u001b[0mtol\u001b[0m\u001b[0;34m=\u001b[0m\u001b[0;36m1e-5\u001b[0m\u001b[0;34m,\u001b[0m \u001b[0mcallback\u001b[0m\u001b[0;34m=\u001b[0m\u001b[0mcounter\u001b[0m\u001b[0;34m)\u001b[0m\u001b[0;34m\u001b[0m\u001b[0;34m\u001b[0m\u001b[0m\n\u001b[0m",
            "\u001b[0;32m/usr/local/lib/python3.7/dist-packages/scipy/sparse/linalg/isolve/iterative.py\u001b[0m in \u001b[0;36mcg\u001b[0;34m(A, b, x0, tol, maxiter, M, callback, atol)\u001b[0m\n",
            "\u001b[0;32m/usr/local/lib/python3.7/dist-packages/scipy/_lib/_threadsafety.py\u001b[0m in \u001b[0;36mcaller\u001b[0;34m(func, *a, **kw)\u001b[0m\n\u001b[1;32m     44\u001b[0m         \u001b[0;32mdef\u001b[0m \u001b[0mcaller\u001b[0m\u001b[0;34m(\u001b[0m\u001b[0mfunc\u001b[0m\u001b[0;34m,\u001b[0m \u001b[0;34m*\u001b[0m\u001b[0ma\u001b[0m\u001b[0;34m,\u001b[0m \u001b[0;34m**\u001b[0m\u001b[0mkw\u001b[0m\u001b[0;34m)\u001b[0m\u001b[0;34m:\u001b[0m\u001b[0;34m\u001b[0m\u001b[0;34m\u001b[0m\u001b[0m\n\u001b[1;32m     45\u001b[0m             \u001b[0;32mwith\u001b[0m \u001b[0mself\u001b[0m\u001b[0;34m:\u001b[0m\u001b[0;34m\u001b[0m\u001b[0;34m\u001b[0m\u001b[0m\n\u001b[0;32m---> 46\u001b[0;31m                 \u001b[0;32mreturn\u001b[0m \u001b[0mfunc\u001b[0m\u001b[0;34m(\u001b[0m\u001b[0;34m*\u001b[0m\u001b[0ma\u001b[0m\u001b[0;34m,\u001b[0m \u001b[0;34m**\u001b[0m\u001b[0mkw\u001b[0m\u001b[0;34m)\u001b[0m\u001b[0;34m\u001b[0m\u001b[0;34m\u001b[0m\u001b[0m\n\u001b[0m\u001b[1;32m     47\u001b[0m         \u001b[0;32mreturn\u001b[0m \u001b[0mscipy\u001b[0m\u001b[0;34m.\u001b[0m\u001b[0m_lib\u001b[0m\u001b[0;34m.\u001b[0m\u001b[0mdecorator\u001b[0m\u001b[0;34m.\u001b[0m\u001b[0mdecorate\u001b[0m\u001b[0;34m(\u001b[0m\u001b[0mfunc\u001b[0m\u001b[0;34m,\u001b[0m \u001b[0mcaller\u001b[0m\u001b[0;34m)\u001b[0m\u001b[0;34m\u001b[0m\u001b[0;34m\u001b[0m\u001b[0m\n\u001b[1;32m     48\u001b[0m \u001b[0;34m\u001b[0m\u001b[0m\n",
            "\u001b[0;32m/usr/local/lib/python3.7/dist-packages/scipy/sparse/linalg/isolve/iterative.py\u001b[0m in \u001b[0;36mcg\u001b[0;34m(A, b, x0, tol, maxiter, M, callback, atol)\u001b[0m\n\u001b[1;32m    304\u001b[0m            \u001b[0mrevcom\u001b[0m\u001b[0;34m(\u001b[0m\u001b[0mb\u001b[0m\u001b[0;34m,\u001b[0m \u001b[0mx\u001b[0m\u001b[0;34m,\u001b[0m \u001b[0mwork\u001b[0m\u001b[0;34m,\u001b[0m \u001b[0miter_\u001b[0m\u001b[0;34m,\u001b[0m \u001b[0mresid\u001b[0m\u001b[0;34m,\u001b[0m \u001b[0minfo\u001b[0m\u001b[0;34m,\u001b[0m \u001b[0mndx1\u001b[0m\u001b[0;34m,\u001b[0m \u001b[0mndx2\u001b[0m\u001b[0;34m,\u001b[0m \u001b[0mijob\u001b[0m\u001b[0;34m)\u001b[0m\u001b[0;34m\u001b[0m\u001b[0;34m\u001b[0m\u001b[0m\n\u001b[1;32m    305\u001b[0m         \u001b[0;32mif\u001b[0m \u001b[0mcallback\u001b[0m \u001b[0;32mis\u001b[0m \u001b[0;32mnot\u001b[0m \u001b[0;32mNone\u001b[0m \u001b[0;32mand\u001b[0m \u001b[0miter_\u001b[0m \u001b[0;34m>\u001b[0m \u001b[0molditer\u001b[0m\u001b[0;34m:\u001b[0m\u001b[0;34m\u001b[0m\u001b[0;34m\u001b[0m\u001b[0m\n\u001b[0;32m--> 306\u001b[0;31m             \u001b[0mcallback\u001b[0m\u001b[0;34m(\u001b[0m\u001b[0mx\u001b[0m\u001b[0;34m)\u001b[0m\u001b[0;34m\u001b[0m\u001b[0;34m\u001b[0m\u001b[0m\n\u001b[0m\u001b[1;32m    307\u001b[0m         \u001b[0mslice1\u001b[0m \u001b[0;34m=\u001b[0m \u001b[0mslice\u001b[0m\u001b[0;34m(\u001b[0m\u001b[0mndx1\u001b[0m\u001b[0;34m-\u001b[0m\u001b[0;36m1\u001b[0m\u001b[0;34m,\u001b[0m \u001b[0mndx1\u001b[0m\u001b[0;34m-\u001b[0m\u001b[0;36m1\u001b[0m\u001b[0;34m+\u001b[0m\u001b[0mn\u001b[0m\u001b[0;34m)\u001b[0m\u001b[0;34m\u001b[0m\u001b[0;34m\u001b[0m\u001b[0m\n\u001b[1;32m    308\u001b[0m         \u001b[0mslice2\u001b[0m \u001b[0;34m=\u001b[0m \u001b[0mslice\u001b[0m\u001b[0;34m(\u001b[0m\u001b[0mndx2\u001b[0m\u001b[0;34m-\u001b[0m\u001b[0;36m1\u001b[0m\u001b[0;34m,\u001b[0m \u001b[0mndx2\u001b[0m\u001b[0;34m-\u001b[0m\u001b[0;36m1\u001b[0m\u001b[0;34m+\u001b[0m\u001b[0mn\u001b[0m\u001b[0;34m)\u001b[0m\u001b[0;34m\u001b[0m\u001b[0;34m\u001b[0m\u001b[0m\n",
            "\u001b[0;32m<ipython-input-6-c23b3919a7b9>\u001b[0m in \u001b[0;36m__call__\u001b[0;34m(self, *args)\u001b[0m\n\u001b[1;32m      9\u001b[0m     \u001b[0mself\u001b[0m\u001b[0;34m.\u001b[0m\u001b[0mniter\u001b[0m \u001b[0;34m+=\u001b[0m \u001b[0;36m1\u001b[0m\u001b[0;34m\u001b[0m\u001b[0;34m\u001b[0m\u001b[0m\n\u001b[1;32m     10\u001b[0m     \u001b[0;32mif\u001b[0m \u001b[0mself\u001b[0m\u001b[0;34m.\u001b[0m\u001b[0mrhs\u001b[0m \u001b[0;32mis\u001b[0m \u001b[0;32mnot\u001b[0m \u001b[0;32mNone\u001b[0m \u001b[0;32mand\u001b[0m \u001b[0mself\u001b[0m\u001b[0;34m.\u001b[0m\u001b[0mA\u001b[0m \u001b[0;32mis\u001b[0m \u001b[0;32mnot\u001b[0m \u001b[0;32mNone\u001b[0m\u001b[0;34m:\u001b[0m\u001b[0;34m\u001b[0m\u001b[0;34m\u001b[0m\u001b[0m\n\u001b[0;32m---> 11\u001b[0;31m       \u001b[0mprint\u001b[0m\u001b[0;34m(\u001b[0m\u001b[0mnp\u001b[0m\u001b[0;34m.\u001b[0m\u001b[0mlinalg\u001b[0m\u001b[0;34m.\u001b[0m\u001b[0mnorm\u001b[0m\u001b[0;34m(\u001b[0m\u001b[0mself\u001b[0m\u001b[0;34m.\u001b[0m\u001b[0mrhs\u001b[0m \u001b[0;34m-\u001b[0m \u001b[0mself\u001b[0m\u001b[0;34m.\u001b[0m\u001b[0mA\u001b[0m \u001b[0;34m@\u001b[0m \u001b[0margs\u001b[0m\u001b[0;34m[\u001b[0m\u001b[0;36m0\u001b[0m\u001b[0;34m]\u001b[0m\u001b[0;34m)\u001b[0m\u001b[0;34m)\u001b[0m\u001b[0;34m\u001b[0m\u001b[0;34m\u001b[0m\u001b[0m\n\u001b[0m",
            "\u001b[0;32m/usr/local/lib/python3.7/dist-packages/scipy/sparse/linalg/interface.py\u001b[0m in \u001b[0;36m__matmul__\u001b[0;34m(self, other)\u001b[0m\n\u001b[1;32m    424\u001b[0m             raise ValueError(\"Scalar operands are not allowed, \"\n\u001b[1;32m    425\u001b[0m                              \"use '*' instead\")\n\u001b[0;32m--> 426\u001b[0;31m         \u001b[0;32mreturn\u001b[0m \u001b[0mself\u001b[0m\u001b[0;34m.\u001b[0m\u001b[0m__mul__\u001b[0m\u001b[0;34m(\u001b[0m\u001b[0mother\u001b[0m\u001b[0;34m)\u001b[0m\u001b[0;34m\u001b[0m\u001b[0;34m\u001b[0m\u001b[0m\n\u001b[0m\u001b[1;32m    427\u001b[0m \u001b[0;34m\u001b[0m\u001b[0m\n\u001b[1;32m    428\u001b[0m     \u001b[0;32mdef\u001b[0m \u001b[0m__rmatmul__\u001b[0m\u001b[0;34m(\u001b[0m\u001b[0mself\u001b[0m\u001b[0;34m,\u001b[0m \u001b[0mother\u001b[0m\u001b[0;34m)\u001b[0m\u001b[0;34m:\u001b[0m\u001b[0;34m\u001b[0m\u001b[0;34m\u001b[0m\u001b[0m\n",
            "\u001b[0;32m/usr/local/lib/python3.7/dist-packages/scipy/sparse/linalg/interface.py\u001b[0m in \u001b[0;36m__mul__\u001b[0;34m(self, x)\u001b[0m\n\u001b[1;32m    388\u001b[0m \u001b[0;34m\u001b[0m\u001b[0m\n\u001b[1;32m    389\u001b[0m     \u001b[0;32mdef\u001b[0m \u001b[0m__mul__\u001b[0m\u001b[0;34m(\u001b[0m\u001b[0mself\u001b[0m\u001b[0;34m,\u001b[0m \u001b[0mx\u001b[0m\u001b[0;34m)\u001b[0m\u001b[0;34m:\u001b[0m\u001b[0;34m\u001b[0m\u001b[0;34m\u001b[0m\u001b[0m\n\u001b[0;32m--> 390\u001b[0;31m         \u001b[0;32mreturn\u001b[0m \u001b[0mself\u001b[0m\u001b[0;34m.\u001b[0m\u001b[0mdot\u001b[0m\u001b[0;34m(\u001b[0m\u001b[0mx\u001b[0m\u001b[0;34m)\u001b[0m\u001b[0;34m\u001b[0m\u001b[0;34m\u001b[0m\u001b[0m\n\u001b[0m\u001b[1;32m    391\u001b[0m \u001b[0;34m\u001b[0m\u001b[0m\n\u001b[1;32m    392\u001b[0m     \u001b[0;32mdef\u001b[0m \u001b[0mdot\u001b[0m\u001b[0;34m(\u001b[0m\u001b[0mself\u001b[0m\u001b[0;34m,\u001b[0m \u001b[0mx\u001b[0m\u001b[0;34m)\u001b[0m\u001b[0;34m:\u001b[0m\u001b[0;34m\u001b[0m\u001b[0;34m\u001b[0m\u001b[0m\n",
            "\u001b[0;32m/usr/local/lib/python3.7/dist-packages/scipy/sparse/linalg/interface.py\u001b[0m in \u001b[0;36mdot\u001b[0;34m(self, x)\u001b[0m\n\u001b[1;32m    413\u001b[0m \u001b[0;34m\u001b[0m\u001b[0m\n\u001b[1;32m    414\u001b[0m             \u001b[0;32mif\u001b[0m \u001b[0mx\u001b[0m\u001b[0;34m.\u001b[0m\u001b[0mndim\u001b[0m \u001b[0;34m==\u001b[0m \u001b[0;36m1\u001b[0m \u001b[0;32mor\u001b[0m \u001b[0mx\u001b[0m\u001b[0;34m.\u001b[0m\u001b[0mndim\u001b[0m \u001b[0;34m==\u001b[0m \u001b[0;36m2\u001b[0m \u001b[0;32mand\u001b[0m \u001b[0mx\u001b[0m\u001b[0;34m.\u001b[0m\u001b[0mshape\u001b[0m\u001b[0;34m[\u001b[0m\u001b[0;36m1\u001b[0m\u001b[0;34m]\u001b[0m \u001b[0;34m==\u001b[0m \u001b[0;36m1\u001b[0m\u001b[0;34m:\u001b[0m\u001b[0;34m\u001b[0m\u001b[0;34m\u001b[0m\u001b[0m\n\u001b[0;32m--> 415\u001b[0;31m                 \u001b[0;32mreturn\u001b[0m \u001b[0mself\u001b[0m\u001b[0;34m.\u001b[0m\u001b[0mmatvec\u001b[0m\u001b[0;34m(\u001b[0m\u001b[0mx\u001b[0m\u001b[0;34m)\u001b[0m\u001b[0;34m\u001b[0m\u001b[0;34m\u001b[0m\u001b[0m\n\u001b[0m\u001b[1;32m    416\u001b[0m             \u001b[0;32melif\u001b[0m \u001b[0mx\u001b[0m\u001b[0;34m.\u001b[0m\u001b[0mndim\u001b[0m \u001b[0;34m==\u001b[0m \u001b[0;36m2\u001b[0m\u001b[0;34m:\u001b[0m\u001b[0;34m\u001b[0m\u001b[0;34m\u001b[0m\u001b[0m\n\u001b[1;32m    417\u001b[0m                 \u001b[0;32mreturn\u001b[0m \u001b[0mself\u001b[0m\u001b[0;34m.\u001b[0m\u001b[0mmatmat\u001b[0m\u001b[0;34m(\u001b[0m\u001b[0mx\u001b[0m\u001b[0;34m)\u001b[0m\u001b[0;34m\u001b[0m\u001b[0;34m\u001b[0m\u001b[0m\n",
            "\u001b[0;32m/usr/local/lib/python3.7/dist-packages/scipy/sparse/linalg/interface.py\u001b[0m in \u001b[0;36mmatvec\u001b[0;34m(self, x)\u001b[0m\n\u001b[1;32m    227\u001b[0m             \u001b[0;32mraise\u001b[0m \u001b[0mValueError\u001b[0m\u001b[0;34m(\u001b[0m\u001b[0;34m'dimension mismatch'\u001b[0m\u001b[0;34m)\u001b[0m\u001b[0;34m\u001b[0m\u001b[0;34m\u001b[0m\u001b[0m\n\u001b[1;32m    228\u001b[0m \u001b[0;34m\u001b[0m\u001b[0m\n\u001b[0;32m--> 229\u001b[0;31m         \u001b[0my\u001b[0m \u001b[0;34m=\u001b[0m \u001b[0mself\u001b[0m\u001b[0;34m.\u001b[0m\u001b[0m_matvec\u001b[0m\u001b[0;34m(\u001b[0m\u001b[0mx\u001b[0m\u001b[0;34m)\u001b[0m\u001b[0;34m\u001b[0m\u001b[0;34m\u001b[0m\u001b[0m\n\u001b[0m\u001b[1;32m    230\u001b[0m \u001b[0;34m\u001b[0m\u001b[0m\n\u001b[1;32m    231\u001b[0m         \u001b[0;32mif\u001b[0m \u001b[0misinstance\u001b[0m\u001b[0;34m(\u001b[0m\u001b[0mx\u001b[0m\u001b[0;34m,\u001b[0m \u001b[0mnp\u001b[0m\u001b[0;34m.\u001b[0m\u001b[0mmatrix\u001b[0m\u001b[0;34m)\u001b[0m\u001b[0;34m:\u001b[0m\u001b[0;34m\u001b[0m\u001b[0;34m\u001b[0m\u001b[0m\n",
            "\u001b[0;32m/usr/local/lib/python3.7/dist-packages/scipy/sparse/linalg/interface.py\u001b[0m in \u001b[0;36m_matvec\u001b[0;34m(self, x)\u001b[0m\n\u001b[1;32m    525\u001b[0m \u001b[0;34m\u001b[0m\u001b[0m\n\u001b[1;32m    526\u001b[0m     \u001b[0;32mdef\u001b[0m \u001b[0m_matvec\u001b[0m\u001b[0;34m(\u001b[0m\u001b[0mself\u001b[0m\u001b[0;34m,\u001b[0m \u001b[0mx\u001b[0m\u001b[0;34m)\u001b[0m\u001b[0;34m:\u001b[0m\u001b[0;34m\u001b[0m\u001b[0;34m\u001b[0m\u001b[0m\n\u001b[0;32m--> 527\u001b[0;31m         \u001b[0;32mreturn\u001b[0m \u001b[0mself\u001b[0m\u001b[0;34m.\u001b[0m\u001b[0m__matvec_impl\u001b[0m\u001b[0;34m(\u001b[0m\u001b[0mx\u001b[0m\u001b[0;34m)\u001b[0m\u001b[0;34m\u001b[0m\u001b[0;34m\u001b[0m\u001b[0m\n\u001b[0m\u001b[1;32m    528\u001b[0m \u001b[0;34m\u001b[0m\u001b[0m\n\u001b[1;32m    529\u001b[0m     \u001b[0;32mdef\u001b[0m \u001b[0m_rmatvec\u001b[0m\u001b[0;34m(\u001b[0m\u001b[0mself\u001b[0m\u001b[0;34m,\u001b[0m \u001b[0mx\u001b[0m\u001b[0;34m)\u001b[0m\u001b[0;34m:\u001b[0m\u001b[0;34m\u001b[0m\u001b[0;34m\u001b[0m\u001b[0m\n",
            "\u001b[0;32m<ipython-input-9-324946751cc0>\u001b[0m in \u001b[0;36m<lambda>\u001b[0;34m(x)\u001b[0m\n\u001b[1;32m      2\u001b[0m \u001b[0malpha\u001b[0m \u001b[0;34m=\u001b[0m \u001b[0;36m0.01\u001b[0m\u001b[0;34m\u001b[0m\u001b[0;34m\u001b[0m\u001b[0m\n\u001b[1;32m      3\u001b[0m \u001b[0;34m\u001b[0m\u001b[0m\n\u001b[0;32m----> 4\u001b[0;31m \u001b[0mT\u001b[0m \u001b[0;34m=\u001b[0m \u001b[0mLinearOperator\u001b[0m\u001b[0;34m(\u001b[0m\u001b[0;34m(\u001b[0m\u001b[0mlen\u001b[0m\u001b[0;34m(\u001b[0m\u001b[0mx\u001b[0m\u001b[0;34m)\u001b[0m\u001b[0;34m,\u001b[0m \u001b[0mlen\u001b[0m\u001b[0;34m(\u001b[0m\u001b[0mx\u001b[0m\u001b[0;34m)\u001b[0m\u001b[0;34m)\u001b[0m\u001b[0;34m,\u001b[0m \u001b[0mmatvec\u001b[0m \u001b[0;34m=\u001b[0m \u001b[0;32mlambda\u001b[0m \u001b[0mx\u001b[0m\u001b[0;34m:\u001b[0m \u001b[0mT_matvec\u001b[0m\u001b[0;34m(\u001b[0m\u001b[0mx\u001b[0m\u001b[0;34m,\u001b[0m \u001b[0malpha\u001b[0m\u001b[0;34m=\u001b[0m\u001b[0malpha\u001b[0m\u001b[0;34m)\u001b[0m\u001b[0;34m)\u001b[0m\u001b[0;34m\u001b[0m\u001b[0;34m\u001b[0m\u001b[0m\n\u001b[0m\u001b[1;32m      5\u001b[0m \u001b[0my\u001b[0m \u001b[0;34m=\u001b[0m \u001b[0mT\u001b[0m\u001b[0;34m.\u001b[0m\u001b[0mmatvec\u001b[0m\u001b[0;34m(\u001b[0m\u001b[0mx\u001b[0m\u001b[0;34m)\u001b[0m\u001b[0;34m\u001b[0m\u001b[0;34m\u001b[0m\u001b[0m\n\u001b[1;32m      6\u001b[0m \u001b[0my_hat\u001b[0m \u001b[0;34m=\u001b[0m \u001b[0my\u001b[0m \u001b[0;34m+\u001b[0m \u001b[0mnp\u001b[0m\u001b[0;34m.\u001b[0m\u001b[0mrandom\u001b[0m\u001b[0;34m.\u001b[0m\u001b[0mrandn\u001b[0m\u001b[0;34m(\u001b[0m\u001b[0my\u001b[0m\u001b[0;34m.\u001b[0m\u001b[0mshape\u001b[0m\u001b[0;34m[\u001b[0m\u001b[0;36m0\u001b[0m\u001b[0;34m]\u001b[0m\u001b[0;34m)\u001b[0m\u001b[0;34m\u001b[0m\u001b[0;34m\u001b[0m\u001b[0m\n",
            "\u001b[0;32m<ipython-input-4-8a0931dde9f7>\u001b[0m in \u001b[0;36mT_matvec\u001b[0;34m(x, alpha)\u001b[0m\n\u001b[1;32m     10\u001b[0m     \u001b[0mTi\u001b[0m \u001b[0;34m=\u001b[0m \u001b[0mtoeplitz\u001b[0m\u001b[0;34m(\u001b[0m\u001b[0mcol\u001b[0m\u001b[0;34m)\u001b[0m\u001b[0;34m\u001b[0m\u001b[0;34m\u001b[0m\u001b[0m\n\u001b[1;32m     11\u001b[0m     \u001b[0mx_mat\u001b[0m \u001b[0;34m=\u001b[0m \u001b[0mnp\u001b[0m\u001b[0;34m.\u001b[0m\u001b[0marray\u001b[0m\u001b[0;34m(\u001b[0m\u001b[0mx\u001b[0m\u001b[0;34m)\u001b[0m\u001b[0;34m.\u001b[0m\u001b[0mreshape\u001b[0m\u001b[0;34m(\u001b[0m\u001b[0mn\u001b[0m\u001b[0;34m,\u001b[0m \u001b[0mn\u001b[0m\u001b[0;34m)\u001b[0m\u001b[0;34m.\u001b[0m\u001b[0mT\u001b[0m\u001b[0;34m\u001b[0m\u001b[0;34m\u001b[0m\u001b[0m\n\u001b[0;32m---> 12\u001b[0;31m     \u001b[0;32mreturn\u001b[0m \u001b[0;34m(\u001b[0m\u001b[0;34m(\u001b[0m\u001b[0mTi\u001b[0m \u001b[0;34m@\u001b[0m \u001b[0mx_mat\u001b[0m\u001b[0;34m)\u001b[0m \u001b[0;34m@\u001b[0m \u001b[0mTi\u001b[0m\u001b[0;34m)\u001b[0m\u001b[0;34m.\u001b[0m\u001b[0mT\u001b[0m\u001b[0;34m.\u001b[0m\u001b[0mravel\u001b[0m\u001b[0;34m(\u001b[0m\u001b[0;34m)\u001b[0m \u001b[0;34m*\u001b[0m \u001b[0malpha\u001b[0m \u001b[0;34m/\u001b[0m \u001b[0mnp\u001b[0m\u001b[0;34m.\u001b[0m\u001b[0mpi\u001b[0m\u001b[0;34m\u001b[0m\u001b[0;34m\u001b[0m\u001b[0m\n\u001b[0m\u001b[1;32m     13\u001b[0m \u001b[0;34m\u001b[0m\u001b[0m\n\u001b[1;32m     14\u001b[0m \u001b[0;32mdef\u001b[0m \u001b[0mT_matvec_fft\u001b[0m\u001b[0;34m(\u001b[0m\u001b[0mx\u001b[0m\u001b[0;34m,\u001b[0m \u001b[0malpha\u001b[0m\u001b[0;34m)\u001b[0m\u001b[0;34m:\u001b[0m\u001b[0;34m\u001b[0m\u001b[0;34m\u001b[0m\u001b[0m\n",
            "\u001b[0;31mKeyboardInterrupt\u001b[0m: "
          ]
        }
      ],
      "source": [
        "counter = Counter(y_hat, T)\n",
        "res, _ = cg(T, y_hat, tol=1e-5, callback=counter)"
      ]
    },
    {
      "cell_type": "markdown",
      "metadata": {
        "id": "tw2zwv8YSOl6"
      },
      "source": [
        "For example, here norm is decreasing and process converges."
      ]
    },
    {
      "cell_type": "code",
      "execution_count": 91,
      "metadata": {
        "colab": {
          "base_uri": "https://localhost:8080/"
        },
        "id": "JzT0Wfzl6hpx",
        "outputId": "7112444c-33d2-4c52-a3f9-fd2680dfcdf7"
      },
      "outputs": [
        {
          "name": "stdout",
          "output_type": "stream",
          "text": [
            "5806.984949239885\n",
            "2817.9090386681555\n",
            "1417.6799473823423\n",
            "1011.3269182230987\n",
            "718.394035838342\n",
            "451.51616774537064\n",
            "333.507063123509\n",
            "265.35097363880703\n",
            "207.44577844994808\n",
            "184.92370364244582\n",
            "155.3648614215143\n",
            "132.13270903029743\n",
            "110.52682660257416\n",
            "93.69371729548219\n",
            "83.44621100411854\n",
            "65.2658952179827\n",
            "66.77152041397726\n",
            "59.258324783352\n",
            "49.391399420676194\n",
            "48.157541470576966\n",
            "39.96332806972329\n",
            "38.02497081546409\n",
            "36.8329115173475\n",
            "31.98057372962435\n",
            "30.04749911926978\n",
            "28.013508467137296\n",
            "25.241101284195977\n",
            "25.2058375915984\n",
            "23.839839792759445\n",
            "21.245434322950203\n",
            "18.3896022556734\n",
            "16.217011980993856\n",
            "15.711989129960509\n",
            "16.358287612186814\n",
            "16.29329113651159\n",
            "13.898854865368333\n",
            "12.564086116682207\n",
            "11.894635508268395\n",
            "11.99542921617991\n",
            "11.936329269821146\n",
            "11.941015072243324\n",
            "9.934575319562066\n",
            "9.490709960857998\n",
            "9.650334217869636\n",
            "8.64933218635942\n",
            "8.835910778543694\n",
            "7.878116421351261\n",
            "7.501238154596892\n",
            "7.259418410596463\n",
            "6.857978409017881\n",
            "6.681866812573069\n",
            "6.364230311668135\n",
            "5.9514771431462075\n",
            "5.936749585317415\n",
            "5.736731533235475\n",
            "5.710058464399952\n",
            "5.41242449617999\n",
            "5.539695749416092\n",
            "5.1593670113444\n",
            "4.876260988178646\n",
            "4.593662560075036\n",
            "4.654643464295961\n",
            "4.489624341218607\n",
            "4.424763880700808\n",
            "4.0809174373481385\n",
            "4.170885306676933\n",
            "4.225293795560246\n",
            "4.174993227983851\n",
            "3.8013170232777793\n",
            "3.6642781480663444\n",
            "3.6995210666943015\n",
            "3.475020434443112\n",
            "3.4538102999351326\n",
            "3.383253262931413\n",
            "3.1556940037476027\n",
            "3.1169882724712563\n",
            "2.8826673161414353\n",
            "2.8227382035055175\n",
            "2.8008493119394\n",
            "2.8380944490067717\n",
            "2.7900009770762195\n",
            "2.748200345404332\n",
            "2.518698546875525\n",
            "2.6733302442415754\n",
            "2.670171182603256\n",
            "2.4956380897257406\n",
            "2.4032912550800565\n",
            "2.2283690005933856\n",
            "2.1548887477330236\n",
            "2.0557217401726637\n",
            "2.059065775165392\n",
            "1.9724918199122903\n",
            "2.0379076794470103\n",
            "1.9767510085119029\n",
            "1.8760199073328483\n",
            "1.8931666751922624\n",
            "1.7832735751117683\n",
            "1.788600560523694\n",
            "1.739188725467024\n",
            "1.8687968503244416\n",
            "1.7404175913647515\n",
            "1.7254272614291726\n",
            "1.7787306634652955\n",
            "1.6221558324796275\n",
            "1.5654769624722116\n",
            "1.5879417311507333\n",
            "1.4806024853541944\n",
            "1.3657436772758684\n",
            "1.4162735246045925\n",
            "1.4240000186429267\n",
            "1.4421971283669297\n",
            "1.4334889160392994\n",
            "1.355586744268951\n",
            "1.2625894626666385\n",
            "1.250302793205721\n",
            "1.1719911870089235\n",
            "1.12193396099394\n",
            "1.174606117288585\n",
            "1.1655635736606396\n",
            "1.1361202122273015\n",
            "1.1548511521912048\n",
            "1.1404405265519755\n",
            "1.061164503958492\n",
            "1.1517375552128377\n",
            "1.0997054275374305\n",
            "1.1166632500711935\n",
            "1.041367894193045\n",
            "1.0076344832411352\n",
            "1.0170660683917068\n",
            "0.989304899428269\n",
            "1.0500416389752376\n",
            "0.9933228144460297\n",
            "0.9531640133401034\n",
            "0.9506581239837953\n",
            "0.929708392801374\n",
            "0.985632309402624\n",
            "0.8930461068040092\n",
            "0.853510091977428\n",
            "0.8444224138307006\n",
            "0.8717881004175024\n",
            "0.8624842108099083\n",
            "0.8139024841166839\n",
            "0.762302266645598\n",
            "0.8167466484420967\n",
            "0.8890833712732609\n",
            "0.8934286593574695\n",
            "0.8462156515453608\n",
            "0.7737604643978613\n",
            "0.7592977019059001\n",
            "0.7554068091176431\n",
            "0.757694114900403\n",
            "0.7499269977537308\n",
            "0.7523265138058\n",
            "0.7513400427102408\n",
            "0.6681701898905937\n",
            "0.6834396143702852\n",
            "0.6779740107094047\n",
            "0.6660813197124974\n",
            "0.7048269056890776\n",
            "0.667106067042934\n",
            "0.6541204400151961\n",
            "0.6743305461742652\n",
            "0.6647251963741246\n",
            "0.6879051852389488\n",
            "0.6680890475825002\n",
            "0.6176693620946755\n",
            "0.6277053071540205\n",
            "0.5969863951525191\n"
          ]
        }
      ],
      "source": [
        "counter = Counter(y, T)\n",
        "res, _ = cg(T, y, tol=1e-5, callback=counter)"
      ]
    },
    {
      "cell_type": "markdown",
      "metadata": {
        "id": "BzBwy3sULJ4v"
      },
      "source": [
        "The process doesn't converge due to ill-condition of T (shown in the task above). In this case the solution is very sensitive to perturbations in the right hand side. To use CG we need to decrease relative difference between highest eigenvalue and lowest one a.k.a make condition value less. For this purpose we can use regularization. For example, Tikhonov (as below) which uses the fact that $\\frac{a + λ_{max}}{a + λ_{min}} < \\frac{λ_{max}}{λ_{min}}$. Or other regularization techniques. The disadvantage of Tikhonov regularization is that the regularization parameter must be selected by ourselves and a priori we don't know which one will be better in each specific problem."
      ]
    },
    {
      "cell_type": "markdown",
      "metadata": {
        "id": "ez3m0Y-n6hpy"
      },
      "source": [
        "## Task 4 (10 pts)\n",
        "\n",
        "- Implement Tikhonov regularization, i.e. deconvolve $\\hat{y}$ with the perturbed matrix $T_{\\lambda} = T + \\lambda^2I$ instead of $T$. Modify `T_matvec()` according to the template below.\n",
        "- Perform computations for all $\\lambda \\in \\{10, 1, 0.1\\}$ and $tol \\in \\{10^{-3}, 10^{-4}, 10^{-5},10^{-6}, 10^{-7} \\}$. For each pair $(\\lambda, tol)$ write out `num_iters` and relative error $e = \\frac{\\|x - x^*\\|_2}{\\|x\\|_2}$. Comment on the results: \n",
        "    - Compare robustness of the convergence with task 2. What the observed results indicate?"
      ]
    },
    {
      "cell_type": "code",
      "execution_count": 86,
      "metadata": {
        "id": "IIs9QI7R6hpy"
      },
      "outputs": [],
      "source": [
        "def T_lmbda_matvec_check(x, alpha, lmbda):\n",
        "  \"\"\"\n",
        "  Stores all full toeplitz matrices\n",
        "  doesn't use fft\n",
        "  *only for check*\n",
        "  \"\"\"\n",
        "  T = []\n",
        "  n = int(len(x) ** 0.5)\n",
        "  for i in range(n):\n",
        "    c = [alpha / np.pi * np.exp(-alpha * (i**2 + j**2)) for j in range(n)]\n",
        "    Ti = toeplitz(c)\n",
        "    T.append(np.array([list(t) for t in Ti]).reshape(n,n))\n",
        "  bt = T[0]\n",
        "  for j in range(1,n):\n",
        "    bt = np.hstack((bt, T[abs(j)]))\n",
        "  bttb = bt\n",
        "  for i in range(1,n):\n",
        "    bt = T[i]\n",
        "    for j in range(1,n):\n",
        "      bt = np.hstack((bt, T[abs(i-j)]))\n",
        "    bttb = np.vstack((bttb, bt))\n",
        "  bttb += np.eye(bttb.shape[0]) * lmbda**2\n",
        "  return np.dot(bttb, x)\n",
        "\n",
        "\n",
        "def T_lmbda_matvec_fft(x, alpha, lmbda):\n",
        "    \"\"\"\n",
        "    In case of fft\n",
        "    \"\"\"\n",
        "    n = int(len(x) ** 0.5)\n",
        "    c = [alpha / np.pi * np.exp(- alpha * (j)**2) for j in range(n)]\n",
        "    t = np.hstack((c, c[::-1][:-1]))\n",
        "    for i in range(1, n):\n",
        "      c = [alpha / np.pi * np.exp(- alpha * ((i)**2 + (j)**2)) for j in range(n)]\n",
        "      t1 = np.hstack((c, c[::-1][:-1]))\n",
        "      t = np.vstack((t, t1))\n",
        "    if n == 1:\n",
        "      x_mat = np.array(x).reshape(n, n).T\n",
        "      pad = np.zeros((2*n-1, 2*n-1), dtype=complex)\n",
        "      pad[:n, :n] = x_mat\n",
        "      return (np.fft.ifftn(np.fft.fftn(t.T) * np.fft.fftn(pad))[:n, :n]).ravel()\n",
        "    t = np.vstack((t, t[:-n:-1]))\n",
        "    x_mat = np.array(x).reshape(n, n).T\n",
        "    pad = np.zeros((2*n-1, 2*n-1), dtype=complex)\n",
        "    pad[:n, :n] = x_mat\n",
        "    return (np.fft.ifft2(np.fft.fft2(t.T) * np.fft.fft2(pad))[:n, :n]).ravel() + lmbda**2 * x\n",
        "\n",
        "\n",
        "\n",
        "def T_lmbda_matvec(x, alpha, lmbda):\n",
        "    n = int(len(x) ** 0.5)\n",
        "    col = [np.exp(- alpha * (j)**2) for j in range(n)]\n",
        "    Ti = toeplitz(col)\n",
        "    x_mat = np.array(x).reshape(n, n).T\n",
        "    without_reg = ((Ti @ x_mat) @ Ti).T.ravel() * alpha / np.pi\n",
        "    return without_reg + lmbda**2 * x\n",
        "\n",
        "# testing\n",
        "lmbda = 10\n",
        "alpha = 0.01\n",
        "x_t = np.ones(400).astype(float)\n",
        "\n",
        "T = LinearOperator((len(x_t), len(x_t)), matvec = lambda x: T_lmbda_matvec(x, alpha=alpha, lmbda=lmbda))\n",
        "y = T.matvec(x_t)\n",
        "assert np.allclose(y, T_lmbda_matvec_check(x_t, alpha, lmbda))\n",
        "\n",
        "T = LinearOperator((len(x_t), len(x_t)), matvec = lambda x: T_lmbda_matvec_fft(x, alpha=alpha, lmbda=lmbda))\n",
        "y = T.matvec(x_t)\n",
        "assert np.allclose(y, T_lmbda_matvec_check(x_t, alpha, lmbda))"
      ]
    },
    {
      "cell_type": "code",
      "execution_count": 85,
      "metadata": {
        "id": "bZ4Swy9MVD8R"
      },
      "outputs": [],
      "source": [
        "def new_calc(arg):\n",
        "  lmbda, tol, x = arg\n",
        "  counter = Counter()\n",
        "  x_0 = np.copy(x)\n",
        "  T = LinearOperator((len(x_0), len(x_0)), matvec = lambda x: T_lmbda_matvec(x, alpha=0.01, lmbda=lmbda))\n",
        "  res, _ = cg(T, y_hat, tol=tol, callback=counter)\n",
        "  return counter.niter, np.linalg.norm(res - x_0) / np.linalg.norm(res)"
      ]
    },
    {
      "cell_type": "code",
      "execution_count": null,
      "metadata": {
        "id": "xiA2IOsnVAWl"
      },
      "outputs": [],
      "source": [
        "lmbdas = [10, 1, 0.1]\n",
        "tols = [1e-3, 1e-4, 1e-5, 1e-6, 1e-7]\n",
        "\n",
        "results = Parallel(n_jobs=-1, verbose=51, backend=\"threading\")(\n",
        "    map(delayed(new_calc), ((l, t, x) for l, t in list(product(lmbdas, tols)))))"
      ]
    },
    {
      "cell_type": "markdown",
      "metadata": {
        "id": "su6Fw4XQV3Us"
      },
      "source": [
        "lambda | tol | num_iters | relative_error\n",
        "--- | --- | --- | --- \n",
        "10 | 0.001 | 1 | 118.0814\n",
        "10 | 0.0001 | 2 | 118.0811\n",
        "10 | 0.00001 | 2 | 118.0811\n",
        "10 | 0.000001 | 3 | 118.0811\n",
        "10 | 0.0000001 | 3 | 118.0811\n",
        "1 | 0.001 | 4 | 1.4048\n",
        "1 | 0.0001 | 5 | 1.4048\n",
        "1 | 0.00001 | 6 | 1.4048\n",
        "1 | 0.000001 | 8 | 1.4048\n",
        "1 | 0.0000001 | 9 | 1.4048\n",
        "0.1 | 0.001 | 19 | 0.4857\n",
        "0.1 | 0.0001 | 28 | 0.4887\n",
        "0.1 | 0.00001 | 38 | 0.4888\n",
        "0.1 | 0.000001 | 50 | 0.4888\n",
        "0.1 | 0.0000001 | 61 | 0.4888"
      ]
    },
    {
      "cell_type": "markdown",
      "metadata": {
        "id": "Bs7Q1DNJQUgV"
      },
      "source": [
        "With regularization CG began to converge and became more robust. Also the number of iterations in each case decrease because convergence rate is higher than for ill-conditioned problem. And, in comparing with the task 2, by taking $λ=0.1$ we obtain relative error close to one in the task 2 but after less number of iterations and on perturbated right hand side."
      ]
    },
    {
      "cell_type": "markdown",
      "metadata": {
        "id": "ut0QG1AW6hpy"
      },
      "source": [
        "## Task 5 (20 pts)\n",
        "\n",
        "- Implement BCCB preconditioner for $T_{\\lambda}$ based on Strang preconditioner for Toeplitz matrix (hint: build circulants using first columns of Toeplitz matrices on both levels). You know from lectures that circulants can be explicitly inverted using convolution theorem. Implement the corresponding matvec according to the template provided below.\n",
        "- Check speedup in iterations and runtime that can be gained from the preconditioning for $\\alpha = 0.01$, $\\lambda = 1$ compared with Task 4. Explain results."
      ]
    },
    {
      "cell_type": "code",
      "execution_count": 87,
      "metadata": {
        "id": "DiJcm6XQ6hpz"
      },
      "outputs": [],
      "source": [
        "def C_inv_matvec(x, alpha, lmbda):\n",
        "    n = int(len(x) ** 0.5)\n",
        "    col = [np.exp(- alpha * (j)**2) for j in range(n)]\n",
        "    Ti = toeplitz(col)\n",
        "    c1 = sp.linalg.circulant(col)\n",
        "    c1_inv = np.linalg.inv(c1)\n",
        "    mat = c1_inv @ Ti\n",
        "    x_mat = np.array(x).reshape(n, n).T\n",
        "    without_reg = ((mat @ x_mat) @ mat).T.ravel() * alpha / np.pi\n",
        "    return without_reg + c1_inv[0][0] * lmbda**2 * x"
      ]
    },
    {
      "cell_type": "code",
      "execution_count": 88,
      "metadata": {
        "id": "YRSq6rvkAMUE"
      },
      "outputs": [],
      "source": [
        "def one_more_new_calc(arg):\n",
        "  tol, x = arg\n",
        "  counter = Counter()\n",
        "  x_0 = np.copy(x)\n",
        "  T = LinearOperator((len(x_0), len(x_0)), matvec = lambda x: C_inv_matvec(x, alpha=0.01, lmbda=1))\n",
        "  res, _ = cg(T, y_hat, tol=tol, callback=counter)\n",
        "  return counter.niter, np.linalg.norm(res - x_0) / np.linalg.norm(res)"
      ]
    },
    {
      "cell_type": "code",
      "execution_count": null,
      "metadata": {
        "id": "_YB02Dhe7MFP"
      },
      "outputs": [],
      "source": [
        "tols = [1e-3, 1e-4, 1e-5, 1e-6, 1e-7]\n",
        "\n",
        "results = Parallel(n_jobs=-1, verbose=51, backend=\"threading\")(\n",
        "    map(delayed(one_more_new_calc), ((t, x) for t in tols)))"
      ]
    },
    {
      "cell_type": "markdown",
      "metadata": {
        "id": "bEUlcZ4PVzdc"
      },
      "source": [
        "lambda | tol | num_iters | relative_error | task 4 (num_iters, relative_error)\n",
        "--- | --- | --- | --- | ---\n",
        "1 | 0.001 | 2 | 0.4855 | 4 , 1.4048\n",
        "1 | 0.0001 | 2 | 0.4855 | 5 , 1.4048\n",
        "1 | 0.00001 | 3 | 0.4855 | 6 , 1.4048\n",
        "1 | 0.000001 | 3 | 0.4855 | 8 , 1.4048\n",
        "1 | 0.0000001 | 4 | 0.4855 | 9 , 1.4048"
      ]
    },
    {
      "cell_type": "markdown",
      "metadata": {
        "id": "jsQFldVAwE3w"
      },
      "source": [
        "Number of iterations is approximately twice less than in the task 4 and relative error is less too."
      ]
    },
    {
      "cell_type": "code",
      "execution_count": 108,
      "metadata": {
        "colab": {
          "base_uri": "https://localhost:8080/"
        },
        "id": "Y0ICtY4_wrYr",
        "outputId": "a1a23e09-d928-4a58-dbd8-594e867ee92a"
      },
      "outputs": [
        {
          "name": "stdout",
          "output_type": "stream",
          "text": [
            "cond for T + lambdaI with alpha = 0.01 and lambda = 1: (1.1157642570571829+0j)\n"
          ]
        }
      ],
      "source": [
        "c = [0.01 / np.pi * np.exp(-0.01 * (j**2)) for j in range(n)]\n",
        "T_block = toeplitz(c)\n",
        "T_block += np.eye(len(T_block)) * 1\n",
        "eigenvalues = np.linalg.eig(T_block)[0]\n",
        "cond  = max(eigenvalues) / min(eigenvalues)\n",
        "print(f\"cond for T + lambdaI with alpha = 0.01 and lambda = 1: {cond**2}\")"
      ]
    },
    {
      "cell_type": "code",
      "execution_count": 107,
      "metadata": {
        "colab": {
          "base_uri": "https://localhost:8080/"
        },
        "id": "dCvuW2aRxHZY",
        "outputId": "389f2524-5e16-491d-fdda-35967f7c8208"
      },
      "outputs": [
        {
          "name": "stdout",
          "output_type": "stream",
          "text": [
            "cond for inv(C) @ (T + lambdaI) with alpha = 0.01 and lambda = 1: (1.0072987272454452+0j)\n"
          ]
        }
      ],
      "source": [
        "c = [0.01 / np.pi * np.exp(-0.01 * (j**2)) for j in range(n)]\n",
        "T_block = toeplitz(c)\n",
        "c1 = sp.linalg.circulant(c)\n",
        "c1_inv = np.linalg.inv(c1)\n",
        "T_block = c1_inv @ T_block\n",
        "T_block += np.eye(len(T_block)) * 1 * c1_inv[0][0]\n",
        "eigenvalues = np.linalg.eig(T_block)[0]\n",
        "cond  = max(eigenvalues) / min(eigenvalues)\n",
        "print(f\"cond for inv(C) @ (T + lambdaI) with alpha = 0.01 and lambda = 1: {cond**2}\")"
      ]
    },
    {
      "cell_type": "markdown",
      "metadata": {
        "id": "0XS-vzUixjUU"
      },
      "source": [
        "Cond value is less which affects on convergence rate."
      ]
    }
  ],
  "metadata": {
    "colab": {
      "collapsed_sections": [],
      "name": "Olga_Gorbunova_PS3.ipynb",
      "provenance": []
    },
    "kernelspec": {
      "display_name": "Python 3",
      "language": "python",
      "name": "python3"
    },
    "language_info": {
      "codemirror_mode": {
        "name": "ipython",
        "version": 3
      },
      "file_extension": ".py",
      "mimetype": "text/x-python",
      "name": "python",
      "nbconvert_exporter": "python",
      "pygments_lexer": "ipython3",
      "version": "3.7.7"
    },
    "toc": {
      "base_numbering": 1,
      "nav_menu": {},
      "number_sections": true,
      "sideBar": true,
      "skip_h1_title": false,
      "title_cell": "Table of Contents",
      "title_sidebar": "Contents",
      "toc_cell": false,
      "toc_position": {},
      "toc_section_display": true,
      "toc_window_display": false
    }
  },
  "nbformat": 4,
  "nbformat_minor": 0
}
