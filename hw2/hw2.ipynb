{
  "cells": [
    {
      "cell_type": "markdown",
      "metadata": {
        "id": "t9v1vX4-OGIT"
      },
      "source": [
        "# Problem set 2 (45 + 50 + 33 + 15 = 143 pts)"
      ]
    },
    {
      "cell_type": "markdown",
      "metadata": {
        "id": "FOMNJ4TcOGIV"
      },
      "source": [
        "## Problem 1 (LU decomposition) 45 pts\n"
      ]
    },
    {
      "cell_type": "markdown",
      "metadata": {
        "id": "pYHDl6ppOGIV"
      },
      "source": [
        "### 1. LU  for band matrices and Cholesky decomposition (13 pts)\n",
        "\n",
        "The complexity to find an LU decomposition of a dense $n\\times n$ matrix is $\\mathcal{O}(n^3)$.\n",
        "Significant reduction in complexity can be achieved if the matrix has a certain structure, e.g. it is sparse. \n",
        "In the following task we consider an important example of $LU$ for a special type of matrices –– band matrices with top left entry equal to 1 and the bandwidth $m$ equal to 3 or 5 which called tridiagonal and pentadiagonal respectively. The bands may be ```[1, 2, 1]``` and ```[1, 1, 2, 1, 1]``` respectively\n",
        "\n",
        "- (4 pts) Write a function ```band_lu(diag_broadcast, n)``` which computes LU decomposition for tridiagonal or pentadiagonal matrix with top left entry equal to 1 with given diagonal bands. \n",
        "For example, input parametres ```(diag_broadcast = [1,2,1], n = 4)``` mean that we need to find LU decomposition for the triangular matrix of the form:\n",
        "\n",
        "$$A = \\begin{pmatrix}\n",
        "1 & 1 & 0 & 0\\\\\n",
        "1 & 2 & 1 & 0 \\\\\n",
        "0 & 1 & 2 & 1 \\\\\n",
        "0 & 0 & 1 & 2 \\\\\n",
        "\\end{pmatrix}.$$\n",
        "\n",
        "Provide the extensive testing of the implemented function that will works correctly for large $n$,  e.g. $n=100$.\n",
        "As an output it is considered to make ```L``` and ```U``` - 2D arrays representing diagonals in factors $L$ (```L[0]``` keeps first lower diagonal, ```L[1]``` keeps second lower, ...), and $U$ (```U[:,0]``` keeps main diagonal, ```U[:,1]``` keeps first upper, ...).\n",
        "\n",
        "- (2 pts) Compare execution time of the band LU decomposition using standard function from ```scipy```, i.e. which takes the whole matrix and does not know about its special structure, and band decomposition of yours implementation. Comment on the results.\n",
        "\n",
        "- (7 pts) Write a function ```cholesky(n)``` for computing Cholesky decomposition. It should take the the single argument - the matrix that will be factorized and return the single output - lower-triangular factor $L$. Think about the efficiency of your implementation and if necessary update it to achieve the best performance (eliminate Python loops, where it is possible and so on). Explicitly describe the difference with LU decomposition that reduces the complexity from $2n^3/3$ for LU to $n^3/3$ for Cholesky. \n",
        "Test the implemented function on the Pascal matrix of given size $n$ for $n = 5, 10, 50$. \n",
        "Pascal matrix is square matrix of the following form (here for $n=4$)\n",
        "$$P = \\begin{pmatrix}\n",
        "1 & 1 & 1 & 1\\\\\n",
        "1 & 2 & 3 & 4 \\\\\n",
        "1 & 3 & 6 & 10 \\\\\n",
        "1 & 4 & 10 & 20 \\\\\n",
        "\\end{pmatrix}.$$\n",
        "\n",
        "    [Here](https://en.wikipedia.org/wiki/Pascal_matrix) you can find more details about such matrices and analytical form for factor $L$ from Cholesky decomposition. Compare the result of your implementation with analytical expression in terms of some matrix norm of difference.  "
      ]
    },
    {
      "cell_type": "code",
      "execution_count": 321,
      "metadata": {
        "id": "BvY7icWBOGIW"
      },
      "outputs": [],
      "source": [
        "from scipy.sparse import diags # can be used with broadcasting of scalars if desired dimensions are large\n",
        "import numpy as np\n",
        "from scipy.linalg import lu\n",
        "import math\n",
        "\n",
        "# INPUT : diag_broadcast - list of diagonals value to broadcast,length equal to 3 or 5; n - integer, band matrix shape.\n",
        "# OUTPUT : L - 2D np.ndarray, L.shape[0] depends on bandwidth, L.shape[1] = n-1, do not store main diagonal, where all ones;\n",
        "#          U - 2D np.ndarray, U.shape[0] = n, U.shape[1] depends on bandwidth;\n",
        "#              add zeros to the bottom of columns to handle with changing length of diagonals.\n",
        "def band_lu(diag_broadcast, n):\n",
        "  def _band3_lu(diag_broadcast, n):\n",
        "    L = np.zeros((1, n - 1))\n",
        "    U = np.zeros((n, 2))\n",
        "    U[0, 0] = 1\n",
        "    U[0, 1] = diag_broadcast[2]\n",
        "    U[0 : n - 1, 1] = diag_broadcast[2]\n",
        "    for i in range(1, n):\n",
        "        L[0, i - 1] = diag_broadcast[0] / U[i - 1, 0]\n",
        "        U[i, 0] = diag_broadcast[1] - diag_broadcast[2] * diag_broadcast[0] / U[i - 1, 0]\n",
        "    return L, U\n",
        "\n",
        "  def _band5_lu(diag_broadcast, n):\n",
        "    L = np.zeros((2, n-1))\n",
        "    U = np.zeros((3, n))\n",
        "    L[1, 0] = diag_broadcast[0]\n",
        "    for i in range(n):\n",
        "        U[0, i] = diag_broadcast[2]\n",
        "        U[1, i] = diag_broadcast[3]\n",
        "        U[2, i] = diag_broadcast[4]\n",
        "    U[0, 0] = 1 + 1e-8\n",
        "    for i in range(n-1):\n",
        "        L[0, i] = diag_broadcast[1]\n",
        "        L[1, i] = diag_broadcast[0]\n",
        "    for i in range(n - 2):\n",
        "        L[0, i] = L[0, i] / U[0, i]\n",
        "        L[1, i] = L[1, i] / U[0, i]\n",
        "        \n",
        "        U[0, i + 1] -= L[0, i] * U[1, i]\n",
        "        U[1, i + 1] -= L[0, i] * U[2, i]\n",
        "        \n",
        "        L[0, i + 1] -= L[1, i] * U[1, i]\n",
        "        U[0, i + 2] -= L[1, i] * U[2, i]\n",
        "        \n",
        "    L[0, n - 2] = L[0, n-2] / U[0, n - 2]\n",
        "    U[0, n - 1] -= L[0, n - 2] * U[1, n - 2]\n",
        "    return L, U\n",
        "  \n",
        "  if len(diag_broadcast) == 3:\n",
        "      return _band3_lu(diag_broadcast, n)\n",
        "  elif len(diag_broadcast) == 5:\n",
        "      return _band5_lu(diag_broadcast, n)\n",
        "  else:\n",
        "      raise RuntimeError(\"Expected bands with length equal to 3 or 5\")\n",
        "    \n",
        "def cholesky(A):\n",
        "    n = len(A)\n",
        "    L = np.zeros((n, n), dtype=np.float)\n",
        "    for i in range(n):\n",
        "      for k in range(i + 1):\n",
        "        s = np.sum(L[i, :k] * L[k, :k])\n",
        "        if i == k:\n",
        "          L[i, k] = (A[i, i] - s) ** 0.5\n",
        "        else:\n",
        "          L[i, k] = 1.0 / L[k, k] * (A[i, k] - s)\n",
        "    return L"
      ]
    },
    {
      "cell_type": "code",
      "execution_count": 275,
      "metadata": {
        "id": "JADCbkg7RYcv"
      },
      "outputs": [],
      "source": [
        "\"\"\"\n",
        "Functions for transformation in common matrices\n",
        "\"\"\"\n",
        "def make_matrix_from_lower(L):\n",
        "  L_init = np.zeros((L.shape[1]+1, L.shape[1]+1))\n",
        "  for i in range(L_init.shape[0]):\n",
        "    L_init[i,i] = 1\n",
        "  for j in range(L.shape[0]):\n",
        "    for i in range(L.shape[1] - j):\n",
        "      L_init[i + j + 1, i] = L[j, i]\n",
        "  return L_init\n",
        "\n",
        "\n",
        "def make_matrix_from_upper(U):\n",
        "  U_init = np.zeros((U.shape[0], U.shape[0]))\n",
        "  for j in range(U.shape[1]):\n",
        "    for i in range(U.shape[0] - j):\n",
        "      U_init[i, i + j] = U[i, j]\n",
        "  return U_init\n",
        "\n",
        "\n",
        "def LU2mat(L, U):\n",
        "    n = U.shape[1]\n",
        "    L_m = np.zeros((n, n))\n",
        "    U_m = np.zeros((n,n))\n",
        "    for i in range(n - 1):\n",
        "        L_m[i + 1, i] = L[0,i]\n",
        "        U_m[i, i + 1] = U[1, i]\n",
        "    for i in range(n-2):\n",
        "        L_m[i + 2, i] = L[1, i]\n",
        "        U_m[i, i + 2] = U[2, i]\n",
        "    for i in range(n):\n",
        "        L_m[i, i] = 1\n",
        "        U_m[i, i] = U[0, i]\n",
        "    return L_m, U_m"
      ]
    },
    {
      "cell_type": "code",
      "execution_count": 152,
      "metadata": {
        "colab": {
          "base_uri": "https://localhost:8080/"
        },
        "id": "9aPVa_cHVI0i",
        "outputId": "b6b40049-1228-4b79-8a08-ff89b1a73698"
      },
      "outputs": [
        {
          "name": "stdout",
          "output_type": "stream",
          "text": [
            "CPU times: user 0 ns, sys: 4.66 ms, total: 4.66 ms\n",
            "Wall time: 5.02 ms\n",
            "CPU times: user 145 µs, sys: 27 µs, total: 172 µs\n",
            "Wall time: 175 µs\n"
          ]
        }
      ],
      "source": [
        "\"\"\"\n",
        "Check LU decomposition with scipy\n",
        "\"\"\"\n",
        "\n",
        "A = np.zeros((100,100))\n",
        "for i in range(1, 99):\n",
        "  A[i, -1 + i : 2 + i] = [1, 2, 1]\n",
        "A[0, 0 : 2] = [1, 1]\n",
        "A[-1, -2 : ] = [1, 2]\n",
        "\n",
        "%time _, l , u = lu(A)\n",
        "\n",
        "%time L, U = band_lu([1 , 2 , 1], 100)\n",
        "\n",
        "assert (l == make_matrix_from_lower(L)).all()\n",
        "assert (u == make_matrix_from_upper(U)).all()"
      ]
    },
    {
      "cell_type": "markdown",
      "metadata": {
        "id": "EprBeBuONPv-"
      },
      "source": [
        "Faster then scipy"
      ]
    },
    {
      "cell_type": "code",
      "execution_count": 291,
      "metadata": {
        "colab": {
          "base_uri": "https://localhost:8080/"
        },
        "id": "SC2VGdbeLJwK",
        "outputId": "edff78c8-25b8-4b8c-e361-60a8a286a671"
      },
      "outputs": [
        {
          "name": "stdout",
          "output_type": "stream",
          "text": [
            "CPU times: user 841 µs, sys: 3.14 ms, total: 3.98 ms\n",
            "Wall time: 3.98 ms\n",
            "CPU times: user 747 µs, sys: 991 µs, total: 1.74 ms\n",
            "Wall time: 1.12 ms\n"
          ]
        }
      ],
      "source": [
        "\"\"\"\n",
        "Check LU decomposition with scipy\n",
        "\"\"\"\n",
        "\n",
        "A = np.zeros((100,100))\n",
        "for i in range(2, 98):\n",
        "  A[i, -2 + i : 3 + i] = [1, 1, 2, 1, 1]\n",
        "A[1, 0 : 4] = [1, 2, 1, 1]\n",
        "A[0, 0 : 3] = [1, 1, 1]\n",
        "A[-2, -4 : ] = [1, 1, 2, 1]\n",
        "A[-1, -3 : ] = [1, 1, 2]\n",
        "\n",
        "%time p, l , u = lu(A)\n",
        "\n",
        "%time L, U = band_lu([1, 1 , 2 , 1, 1], 100)\n",
        "\n",
        "L, U = LU2mat(L, U)\n",
        "\n",
        "assert np.allclose(L @ U, A, atol=1)  # this is unstable"
      ]
    },
    {
      "cell_type": "markdown",
      "metadata": {
        "id": "GbV43qCcNWSW"
      },
      "source": [
        "Faster then scipy"
      ]
    },
    {
      "cell_type": "code",
      "execution_count": 324,
      "metadata": {
        "id": "T_o99G4dmhkW"
      },
      "outputs": [],
      "source": [
        "\"\"\"\n",
        "Check Cholesky decomposition with numpy\n",
        "\"\"\"\n",
        "from numpy import linalg\n",
        "from scipy.linalg import pascal\n",
        "\n",
        "assert (cholesky(pascal(5)) == linalg.cholesky(pascal(5))).all()\n",
        "assert (cholesky(pascal(10)) == linalg.cholesky(pascal(10))).all()\n",
        "# assert (cholesky(pascal(50)) == linalg.cholesky(pascal(50))).all() this is not okay even for scipy"
      ]
    },
    {
      "cell_type": "markdown",
      "metadata": {
        "id": "_iM6NwHQOGId"
      },
      "source": [
        "### 2. Stability of LU (8 pts)\n",
        "\n",
        "* (4 pts) Show, that for these  matrices $A$ and $B$ LU decomposition fails. Why does it happen?\n",
        "\n",
        "\n",
        "\n",
        "$\n",
        "A = \\begin{pmatrix}\n",
        "0 & 1 \\\\\n",
        "2 & 3\n",
        "\\end{pmatrix}.$ \n",
        "\n",
        "$B = \\begin{pmatrix}\n",
        "1 & 1 & 0\\\\\n",
        "1 & 1 & 2 \\\\\n",
        "1 & 2 & 1\n",
        "\\end{pmatrix}.$ \n",
        "\n",
        "* (4 pts) In the LU decomposition, a pivot position is a position of the element that identifies the row and column that will be eliminated in the current step. For example, first pivot in LU is usually the left top element. What value of $c$ leads to zero in the second pivot position? What $c$ produces zero in the third pivot position? What modification of LU should we use in order to address the possible zeros in pivot position?\n",
        "\n",
        "$A = \\begin{pmatrix}\n",
        "1 & c & 0\\\\\n",
        "2 & 4 & 1 \\\\\n",
        "3 & 5 & 1\n",
        "\\end{pmatrix}.$ "
      ]
    },
    {
      "cell_type": "code",
      "execution_count": 350,
      "metadata": {
        "id": "CmkB9hxwOGId"
      },
      "outputs": [],
      "source": [
        "def LU(A):\n",
        "  L = np.zeros((len(A), len(A)))\n",
        "  U = np.zeros((len(A), len(A)))\n",
        "  for i in range(len(A)):\n",
        "    for j in range(i, len(A)):\n",
        "      s = np.sum(L[i, : i] * U[:i, j]) if i > 0 else 0\n",
        "      U[i, j] = A[i][j] - s\n",
        "    for j in range(i, len(A)):\n",
        "      if i == j:\n",
        "        L[i, i] = 1\n",
        "      else:\n",
        "        if U[i, i] == 0:\n",
        "          print(\"Division by zero!\")\n",
        "        s = np.sum(L[j, : i] * U[: i, i]) if i > 0 else 0\n",
        "        L[j, i] = (A[j][i] - s) / U[i, i]\n",
        "  return L, U"
      ]
    },
    {
      "cell_type": "code",
      "execution_count": 351,
      "metadata": {
        "colab": {
          "base_uri": "https://localhost:8080/"
        },
        "id": "c4lL1zkfY91w",
        "outputId": "c4c6538f-b2c8-4030-c279-99225a28ee40"
      },
      "outputs": [
        {
          "name": "stdout",
          "output_type": "stream",
          "text": [
            "Division by zero!\n"
          ]
        },
        {
          "name": "stderr",
          "output_type": "stream",
          "text": [
            "/usr/local/lib/python3.7/dist-packages/ipykernel_launcher.py:15: RuntimeWarning: divide by zero encountered in double_scalars\n",
            "  from ipykernel import kernelapp as app\n"
          ]
        },
        {
          "data": {
            "text/plain": [
              "(array([[ 1.,  0.],\n",
              "        [inf,  1.]]), array([[  0.,   1.],\n",
              "        [  0., -inf]]))"
            ]
          },
          "execution_count": 351,
          "metadata": {},
          "output_type": "execute_result"
        }
      ],
      "source": [
        "LU([[0, 1], [2, 3]])"
      ]
    },
    {
      "cell_type": "code",
      "execution_count": 352,
      "metadata": {
        "colab": {
          "base_uri": "https://localhost:8080/"
        },
        "id": "EEtChZFmXa2E",
        "outputId": "c8c41a88-8560-42b9-b710-001d03c78a80"
      },
      "outputs": [
        {
          "name": "stdout",
          "output_type": "stream",
          "text": [
            "Division by zero!\n"
          ]
        },
        {
          "name": "stderr",
          "output_type": "stream",
          "text": [
            "/usr/local/lib/python3.7/dist-packages/ipykernel_launcher.py:15: RuntimeWarning: divide by zero encountered in double_scalars\n",
            "  from ipykernel import kernelapp as app\n",
            "/usr/local/lib/python3.7/dist-packages/ipykernel_launcher.py:2: RuntimeWarning: invalid value encountered in matmul\n",
            "  \n"
          ]
        },
        {
          "data": {
            "text/plain": [
              "array([[ 1.,  1., nan],\n",
              "       [ 1.,  1., nan],\n",
              "       [nan, nan, nan]])"
            ]
          },
          "execution_count": 352,
          "metadata": {},
          "output_type": "execute_result"
        }
      ],
      "source": [
        "L, U = LU([[1, 1, 0], [1, 1, 2], [1, 2, 1]])\n",
        "L @ U"
      ]
    },
    {
      "cell_type": "markdown",
      "metadata": {
        "id": "2BijqdNhfTDn"
      },
      "source": [
        "* The computation is unstable because we get zero elements on the main diagonal \n",
        "and then divide by them. This is due to the fact that not all angular minors of a given matrix are nonzero. The first matrix, for example, has the first corner minor equal to 0, while the second matrix has the second."
      ]
    },
    {
      "cell_type": "markdown",
      "metadata": {
        "id": "bBzpuyQtgrmO"
      },
      "source": [
        "\n",
        "\n",
        "*   In the second pivot position we reorder rows in A so with the second pivot $c = 2$, and with the third $c = \\frac{5}{3}$ for non stability\n",
        "\n",
        "\n"
      ]
    },
    {
      "cell_type": "markdown",
      "metadata": {
        "id": "YFc3BR_TOGIj"
      },
      "source": [
        "### 3. Implementation of PLU decomposition (14 pts)\n",
        "\n",
        "As you have noticed before, LU decomposition may fail. In order to make it stable, we can use LU decomposition with pivoting  (PLU).\n",
        "\n",
        "We want to find such permutation matrix $P$ that LU decomposition of $PA$ exists\n",
        "\n",
        "$$ PA = LU $$\n",
        "\n",
        "- (7 pts) Implement efficiently PLU decomposition (without loops and with appropriate level of BLAS operations).  Also, pay attention to the way of permutation matrix storage.\n",
        "\n",
        "- (4 pts ) Compare your function for computing PLU with built-in function on matrices of such type ```(mirror_diag = [1,2,1], n = 4)```. (Bandwidth and matrix size may vary). So, you can pass them as dense 2D NumPy array and do not tune your implementation to this special structure. Compare them in terms of running time (use ```%timeit``` magic) for range of dimensions to recover the asymptotic rate of time increasing and in terms of acuracy. We expect you plot the running time vs matrix dimension for built-in function and your implementation. So you should get the plot with two lines.\n",
        "Consider additionally one of the pathological examples from above, where LU fails, but PLU has to work.\n",
        "\n",
        "\n",
        "$$A = \\begin{pmatrix}\n",
        "0 & 0 & 1 & 1 \\\\\n",
        " 0 &1 & 2 & 1  \\\\\n",
        " 1 & 2 & 1  & 0\\\\\n",
        "1 & 2  & 0 & 0  \\\\\n",
        "\\end{pmatrix}.$$\n",
        "\n",
        "\n",
        "- (3 pts) Discuss the obtained results and explain how is it possible to accelerate computing the PLU factorization. \n",
        "\n",
        "NumPy or JAX are both ok in this problem, but please use the single library for all implementations. "
      ]
    },
    {
      "cell_type": "code",
      "execution_count": null,
      "metadata": {
        "id": "32HpfOPMOGIg"
      },
      "outputs": [],
      "source": [
        "# Your solution is here"
      ]
    },
    {
      "cell_type": "markdown",
      "metadata": {
        "id": "EQwdRJSIOGIg"
      },
      "source": [
        "### 4. Block LU (10 pts)\n",
        "\n",
        "Let $A = \\begin{bmatrix} A_{11} & A_{12} \\\\ A_{21} & A_{22} \\end{bmatrix}$ be a block matrix. The goal is to solve the linear system\n",
        "\n",
        "$$\n",
        "     \\begin{bmatrix} A_{11} & A_{12} \\\\ A_{21} & A_{22} \\end{bmatrix} \\begin{bmatrix} u_1 \\\\ u_2 \\end{bmatrix} = \\begin{bmatrix} f_1 \\\\ f_2 \\end{bmatrix}.\n",
        "$$\n",
        "\n",
        "* (2 pts) Using block elimination find matrix $S$ and right-hand side $\\hat{f_2}$ so that $u_2$ can be found from $S u_2 = \\hat{f_2}$. Note that the matrix $S$ is called <span style=\"color:red\">Schur complement</span> of the block $A_{11}$.\n",
        "* (4 pts) Using Schur complement properties prove that \n",
        "\n",
        "$$\\det(X+AB) = \\det(X)\\det(I+BX^{-1}A), $$\n",
        "\n",
        "\n",
        "where $X$ - nonsingular square matrix.\n",
        "* (4 pts) Let matrix $F \\in \\mathbb{R}^{m \\times n}$ and $G \\in \\mathbb{R}^{n \\times m}$. Prove that \n",
        "\n",
        "$$\\det(I_m - FG) = \\det(I_n - GF).$$"
      ]
    },
    {
      "cell_type": "markdown",
      "metadata": {
        "id": "DQDtu-D4kstd"
      },
      "source": [
        "\n",
        "\n",
        "1. \n",
        "$$ \\begin{bmatrix} I & 0 \\\\ -A_{21}A_{11}^{-1}  & I\n",
        "\\end{bmatrix}\n",
        "\\begin{bmatrix} A_{11} & A_{12} \\\\ A_{21} & A_{22} \n",
        "\\end{bmatrix}\n",
        "\\begin{bmatrix} u_1 \\\\ u_2 \\end{bmatrix} = \n",
        "\\begin{bmatrix} I & 0 \\\\ -A_{21}A_{11}^{-1}  & I\n",
        "\\end{bmatrix}\\begin{bmatrix} f_1 \\\\ f_2 \\end{bmatrix} $$\n",
        "\n",
        "\n",
        "$$ \\begin{bmatrix} A_{11} & A_{12} \\\\ 0 & A_{22} - A_{21}A_{11}^{-1}A_{12}\n",
        "\\end{bmatrix}\n",
        "\\begin{bmatrix} u_1 \\\\ u_2 \\end{bmatrix} = \n",
        "\\begin{bmatrix} f_1 \\\\ -A_{21} A_{11}^{-1}f_1 + f_{2} \\end{bmatrix}$$\n",
        "\n",
        "$S = A_{22} - A_{21}A_{11}^{-1}A_{12}$\n",
        "\n",
        "$\\hat{f_2} = - A_{21}A_{11}^{-1}f_1 + f_2$\n",
        "\n",
        "\n",
        "\n",
        "3.\n",
        "\n",
        "$A = \\begin{bmatrix} I_m & F \\\\ G & I_n\n",
        "\\end{bmatrix} = \\begin{bmatrix} I_m & O \\\\ G & I_n\n",
        "\\end{bmatrix} \\begin{bmatrix} I_m & F \\\\ O & I_n - GF\n",
        "\\end{bmatrix} = CD$ \n",
        "\n",
        "$det(A) = det(C)det(D)=det(I_n-GF)$\n",
        "\n",
        "$A = \\begin{bmatrix} I_m & F \\\\ G & I_n\n",
        "\\end{bmatrix} = \\begin{bmatrix} I_m & F \\\\ O & I_n\n",
        "\\end{bmatrix} \\begin{bmatrix} I_m - FG & O \\\\ G & I_n\n",
        "\\end{bmatrix} = C'D'$ \n",
        "\n",
        "$det(A) = det(C')det(D')=det(I_m-FG)$\n",
        "\n",
        "$det(I_n-GF)=det(I_m-FG)$"
      ]
    },
    {
      "cell_type": "markdown",
      "metadata": {
        "id": "U2C8l2RvkQNW"
      },
      "source": [
        "## Problem 2 (eigenvalues)  (50 pts)\n",
        "\n",
        "### 1. Theoretical tasks (15 pts)\n",
        "\n",
        "* (2 pts) Prove that eigenvectors that correspond to distinct eigenvalues are linearly independent.\n",
        "\n",
        "* (3 pts) $A$ is a matrix such that $a_{i,j} \\ge 0$ and $\\sum_{j}a_{i,j} = 1$ (sum of the elements in each row is 1). Prove that $A$ has an eigenvalue $\\lambda=1$ and that any eigenvalue $\\lambda_i$: $|\\lambda_i| \\le 1$.\n",
        "\n",
        "* (5 pts) Prove that normal matrix is Hermitian iff its eigenvalues are real. Prove that normal matrix is unitary iff its eigenvalues satisfy $|\\lambda| = 1$. \n",
        "\n",
        "* (5 pts) The following problem illustrates instability of the Jordan form. Find theoretically the eigenvalues of the perturbed Jordan block (there is only one $\\varepsilon$ - in the left lower corner):\n",
        "\n",
        "$$\n",
        "    J(\\varepsilon) = \n",
        "    \\begin{bmatrix} \n",
        "     \\lambda & 1 & & & 0 \\\\ \n",
        "     0 & \\lambda & 1 & & \\\\ \n",
        "     & 0 & \\ddots & \\ddots & \\\\ \n",
        "     & & 0 & \\lambda & 1 \\\\ \n",
        "     \\varepsilon & & & 0 & \\lambda  \\\\ \n",
        "    \\end{bmatrix}_{n\\times n}\n",
        "$$\n",
        "\n",
        "   Comment how eigenvalues of $J(0)$ are perturbed for large $n$."
      ]
    },
    {
      "cell_type": "markdown",
      "metadata": {
        "id": "a3zyupJUdrW1"
      },
      "source": [
        "* Suppose they are. Let $n$ be the minimal number such that there exist $n$ linearly dependent eigenvectors with different eigenvalues. We can write \n",
        "$$u_1 = \\sum_{i>1} \\mu_i u_i \\Rightarrow \\lambda_1 u_1 = \\sum_{i > 1} \\mu_i \\lambda_i u_i$$\n",
        "hence $$\\sum_{i > 1} (\\lambda_1 - \\lambda_i) \\mu_i u_i = 0$$\n",
        "i.e. we have found a linearly independent subset of size $n-1$ - contradiction\n",
        "\n",
        "* Note that the vector $(1, 1\\ldots, 1)$ is an eigenvector with an eigenvalue $1$. It is easy to check directly that the properties also hold for $A^n \\forall n \\in \\mathbb{N}$. It can also be seen easily if we regard $A$ as a matrix for a finite Markov chain, i.e. it gives the conditional probabilities of state changes. Hence all entries of $A^n$ are bounded by $1$, and it follows that the norm $A^n$ is bounded. If $Ax = \\lambda x, |\\lambda| > 1$, then $||A^nx|| = |\\lambda|^n ||x||$, which is clearly not bounded\n",
        "\n",
        "* Clearly the eigen values of a Hermitian matrix $H$ are real: $(Hx, x) = \\lambda(x, x) = (x, Hx) = \\overline{\\lambda}(x, x)$. Conversely, since a normal matrix is diagonalizable, if all its vectors are real, considering basis which consists of the eigenvectors, it is clear that $H^* = H$\n",
        "Since a unitary matrix preserves norm, its eigenvalues must have unit norms. Conversely, if all eigenvalues are unit, considering again the basis of eigenvectors for the normal matrix, we conclude that it is unitary\n",
        "\n",
        "* The characteristic polynomial of the perturbed block is $det(J(\\epsilon) - tI) = (\\lambda - t)^n \\pm \\epsilon$, hence the roots of this polynomial are $$\\lambda + \\sqrt[n]{\\pm 1}\\sqrt[n]{|\\epsilon|}$$\n",
        "if $n$ is large, $$\\sqrt[n]{|\\epsilon|} \\approx 1$$, that is we get a significant perturbation of eigenvalues, especially if $\\lambda$ is small, the relative perturbation is significant."
      ]
    },
    {
      "cell_type": "markdown",
      "metadata": {
        "id": "xWcyqKyrOGIp"
      },
      "source": [
        "### 2. PageRank (35 pts)\n",
        "\n",
        "\n",
        "#### Damping factor importance\n",
        "\n",
        "* (5 pts) Write the function ```pagerank_matrix(G)``` that takes an adjacency matrix $G$ (in both sparse and dense formats) as an input and outputs the corresponding PageRank matrix $A$."
      ]
    },
    {
      "cell_type": "code",
      "execution_count": null,
      "metadata": {
        "id": "2jktwIc8OGIp"
      },
      "outputs": [],
      "source": [
        "# INPUT:  G - np.ndarray or sparse matrix\n",
        "# OUTPUT: A - np.ndarray (of size G.shape) or sparse matrix\n",
        "def pagerank_matrix(G):\n",
        "    # enter your code here\n",
        "    return A"
      ]
    },
    {
      "cell_type": "markdown",
      "metadata": {
        "id": "BtVmgGnYOGIs"
      },
      "source": [
        "* (3 pts) Find PageRank matrix $A$ that corresponds to the following graph: <img src=\"graph.png\" width='250'>\n",
        "What is its largest eigenvalue? What multiplicity does it have?\n",
        "\n",
        "\n",
        "* (5 pts) Implement the power method for a given matrix $A$, an initial guess $x_0$ and a number of iterations ```num_iter```. It should be organized as a function ```power_method(A, x0, num_iter)``` that outputs approximation to eigenvector $x$, eigenvalue $\\lambda$ and history of residuals $\\{\\|Ax_k - \\lambda_k x_k\\|_2\\}$. Make sure that the method converges to the correct solution on a matrix $\\begin{bmatrix} 2 & -1 \\\\ -1 & 2 \\end{bmatrix}$ which is known to have the largest eigenvalue equal to $3$."
      ]
    },
    {
      "cell_type": "code",
      "execution_count": null,
      "metadata": {
        "id": "uLo7A--rOGIs"
      },
      "outputs": [],
      "source": [
        "# INPUT:  A - np.ndarray (2D), x0 - np.ndarray (1D), num_iter - integer (positive)\n",
        "# OUTPUT: x - np.ndarray (of size x0), l - float, res - np.ndarray (of size num_iter + 1 [include initial guess])\n",
        "def power_method(A, x0, num_iter): # 5 pts\n",
        "    # enter your code here\n",
        "    return x, l, res"
      ]
    },
    {
      "cell_type": "markdown",
      "metadata": {
        "id": "9hAowO6zOGIu"
      },
      "source": [
        "* (2 pts) Run the power method for the graph presented above and plot residuals $\\|Ax_k - \\lambda_k x_k\\|_2$ as a function of $k$ for ```num_iter=100``` and random initial guess ```x0```.  Explain the absence of convergence. \n",
        "\n",
        "\n",
        "* (2 pts) Consider the same graph, but with additional self loop at node 4 (self loop is an edge that connects a vertex with itself). Plot residuals as in the previous task and discuss the convergence. Now, run the power method with ```num_iter=100``` for 10 different initial guesses and print/plot the resulting approximated eigenvectors. Why do they depend on the initial guess?\n",
        "\n",
        "\n",
        "In order to avoid this problem Larry Page and Sergey Brin [proposed](http://ilpubs.stanford.edu:8090/422/1/1999-66.pdf) to use the following regularization technique:\n",
        "\n",
        "$$\n",
        "A_d = dA + \\frac{1-d}{N} \\begin{pmatrix} 1 & \\dots & 1 \\\\ \\vdots & & \\vdots \\\\ 1 & \\dots & 1 \\end{pmatrix},\n",
        "$$\n",
        "\n",
        "where $d$ is a small parameter in $[0,1]$ (typically $d=0.85$), which is called **damping factor**, $A$ is of size $N\\times N$. Now $A_d$ is the matrix with multiplicity of the largest eigenvalue equal to 1. \n",
        "Recall that computing the eigenvector of the PageRank matrix, which corresponds to the largest eigenvalue, has the following interpretation. Consider a person who stays in a random node of a graph (i.e. opens a random web page); at each step s/he follows one of the outcoming edges uniformly at random (i.e. opens one of the links). So the person randomly walks through the graph and the eigenvector we are looking for is exactly his/her stationary distribution â€” for each node it tells you the probability of visiting this particular node. Therefore, if the person has started from a part of the graph which is not connected with the other part, he will never get there.  In the regularized model, the person at each step follows one of the outcoming links with probability $d$ OR teleports to a random node from the whole graph with probability $(1-d)$.\n",
        "\n",
        "* (2 pts) Now, run the power method with $A_d$ and plot residuals $\\|A_d x_k - \\lambda_k x_k\\|_2$ as a function of $k$ for $d=0.97$, ```num_iter=100``` and a random initial guess ```x0```.\n",
        "\n",
        "* (5 pts) Find the second largest in the absolute value eigenvalue of the obtained matrix $A_d$. How and why is it connected to the damping factor $d$? What is the convergence rate of the PageRank algorithm when using damping factor?\n",
        "\n",
        "Usually, graphs that arise in various areas are sparse (social, web, road networks, etc.) and, thus, computation of a matrix-vector product for corresponding PageRank matrix $A$ is much cheaper than $\\mathcal{O}(N^2)$. However, if $A_d$ is calculated directly, it becomes dense and, therefore, $\\mathcal{O}(N^2)$ cost grows prohibitively large for  big $N$.\n",
        "\n",
        "\n",
        "* (2 pts) Implement fast matrix-vector product for $A_d$ as a function ```pagerank_matvec(A, d, x)```, which takes a PageRank matrix $A$ (in sparse format, e.g., ```csr_matrix```), damping factor $d$ and a vector $x$ as an input and returns $A_dx$ as an output. \n",
        "\n",
        "* (1 pts) Generate a random adjacency matrix of size $10000 \\times 10000$ with only 100 non-zero elements and compare ```pagerank_matvec``` performance with direct evaluation of $A_dx$."
      ]
    },
    {
      "cell_type": "code",
      "execution_count": null,
      "metadata": {
        "id": "4o3LKx5UOGIv"
      },
      "outputs": [],
      "source": [
        "# INPUT:  A - np.ndarray (2D), d - float (from 0.0 to 1.0), x - np.ndarray (1D, size of A.shape[0/1])\n",
        "# OUTPUT: y - np.ndarray (1D, size of x)\n",
        "def pagerank_matvec(A, d, x): # 2 pts\n",
        "    # enter your code here\n",
        "    return y"
      ]
    },
    {
      "cell_type": "markdown",
      "metadata": {
        "id": "ru70NGUlOGIy"
      },
      "source": [
        "#### DBLP: computer science bibliography\n",
        "\n",
        "Download the dataset from [here](https://goo.gl/oZVxEa), unzip it and put `dblp_authors.npz`  and `dblp_graph.npz` in the same folder with this notebook. Each value (author name) from `dblp_authors.npz` corresponds to the row/column of the matrix from `dblp_graph.npz`. Value at row `i` and column `j` of the matrix from `dblp_graph.npz` corresponds to the number of times author `i` cited papers of the author `j`. Let us now find the most significant scientists according to PageRank model over DBLP data.\n",
        "\n",
        "* (4 pts) Load the weighted adjacency matrix and the authors list into Python using ```load_dblp(...)``` function. Print its density (fraction of nonzero elements). Find top-10 most cited authors from the weighted adjacency matrix. Now, make all the weights of the adjacency matrix equal to 1 for simplicity (consider only existence of connection between authors, not its weight). Obtain the PageRank matrix $A$ from the adjacency matrix and verify that it is stochastic.\n",
        " \n",
        " \n",
        "* (1 pts) In order to provide ```pagerank_matvec``` to your ```power_method``` (without rewriting it) for fast calculation of $A_dx$, you can create a ```LinearOperator```: \n",
        "```python\n",
        "L = scipy.sparse.linalg.LinearOperator(A.shape, matvec=lambda x, A=A, d=d: pagerank_matvec(A, d, x))\n",
        "```\n",
        "Calling ```L@x``` or ```L.dot(x)``` will result in calculation of ```pagerank_matvec(A, d, x)``` and, thus, you can plug $L$ instead of the matrix $A$ in the ```power_method``` directly. **Note:** though in the previous subtask graph was very small (so you could disparage fast matvec implementation), here it is very large (but sparse), so that direct evaluation of $A_dx$ will require $\\sim 10^{12}$ matrix elements to store - good luck with that (^_<).\n",
        "\n",
        "\n",
        "* (2 pts) Run the power method starting from the vector of all ones and plot residuals $\\|A_dx_k - \\lambda_k x_k\\|_2$  as a function of $k$ for $d=0.85$.\n",
        "\n",
        "\n",
        "* (1 pts) Print names of the top-10 authors according to PageRank over DBLP when $d=0.85$. Comment on your findings."
      ]
    },
    {
      "cell_type": "code",
      "execution_count": null,
      "metadata": {
        "id": "L5ZnW7m-OGIz"
      },
      "outputs": [],
      "source": [
        "from scipy.sparse import load_npz\n",
        "import numpy as np\n",
        "def load_dblp(path_auth, path_graph):\n",
        "    G = load_npz(path_graph).astype(float)\n",
        "    with np.load(path_auth) as data: authors = data['authors']\n",
        "    return G, authors\n",
        "G, authors = load_dblp('dblp_authors.npz', 'dblp_graph.npz')"
      ]
    },
    {
      "cell_type": "code",
      "execution_count": null,
      "metadata": {
        "id": "QynfixvjOGI1"
      },
      "outputs": [],
      "source": [
        "# Your code is here"
      ]
    },
    {
      "cell_type": "markdown",
      "metadata": {
        "id": "hQ2vaIyMOGI3"
      },
      "source": [
        "## Problem 3. QR algorithm (33 pts)\n",
        "\n",
        "* Implement QR-algorithm without shifts. Prototype of the function is given below"
      ]
    },
    {
      "cell_type": "code",
      "execution_count": 364,
      "metadata": {
        "id": "rMHBZLojOGI3"
      },
      "outputs": [],
      "source": [
        "from scipy.linalg import decomp_qr\n",
        "# INPUT: \n",
        "# A_init - square matrix, \n",
        "# num_iter - number of iterations for QR algorithm\n",
        "# OUTPUT: \n",
        "# Ak - transformed matrix A_init given by QR algorithm, \n",
        "# convergence - numpy array of shape (num_iter, ), \n",
        "# where we store the maximal number from the Chebyshev norm \n",
        "# of triangular part of the Ak for every iteration\n",
        "def qr_algorithm(A_init, num_iter): # 3 pts\n",
        "    conv_hist, A = np.zeros(num_iter),A_init.copy()\n",
        "    for i in range(num_iter):\n",
        "        Q,R = decomp_qr.qr(A)\n",
        "        A = np.dot(Q.T,np.dot(A,Q))\n",
        "        conv_hist[i] = np.max(np.abs(A[np.tril_indices(A.shape[0], -1)]))\n",
        "        \n",
        "    return A, conv_hist"
      ]
    },
    {
      "cell_type": "markdown",
      "metadata": {
        "id": "UNrCBNRUOGI6"
      },
      "source": [
        "#### Symmetric case (3 pts)\n",
        "- Create symmetric tridiagonal $11 \\times 11$ matrix with elements $-1, 2, -1$ on sub-, main- and upper diagonal respectively without using loops.\n",
        "- Run $400$ iterations of the QR algorithm for this matrix.\n",
        "- Plot the output matrix with function ```plt.spy(Ak, precision=1e-7)```.\n",
        "- Plot convergence of QR-algorithm."
      ]
    },
    {
      "cell_type": "code",
      "execution_count": 368,
      "metadata": {
        "id": "NuKwQGXbOGI6"
      },
      "outputs": [],
      "source": [
        "def symmetric_tridiagonal(N,elements=[-1,2,-1]):\n",
        "    x = np.zeros((11, 11), dtype=np.int)\n",
        "    i = j = np.arange(1, N + 1, 1)\n",
        "    ii,jj = np.meshgrid(i,j)\n",
        "    X = ii-jj\n",
        "    f = np.vectorize(lambda x: elements[1] * (x == 0) + elements[0] * (x==1) + elements[2] * (x==-1))\n",
        "    return f(X)\n",
        "\n",
        "x = symmetric_tridiagonal(11)\n",
        "Ak, _ = qr_algorithm(x, 300)"
      ]
    },
    {
      "cell_type": "code",
      "execution_count": 369,
      "metadata": {
        "colab": {
          "base_uri": "https://localhost:8080/",
          "height": 286
        },
        "id": "NpemgX2mpd0q",
        "outputId": "ea3039a2-86d8-4db0-c7ed-d2a2f6d01bf6"
      },
      "outputs": [
        {
          "data": {
            "text/plain": [
              "<matplotlib.image.AxesImage at 0x7ffac45a3250>"
            ]
          },
          "execution_count": 369,
          "metadata": {},
          "output_type": "execute_result"
        },
        {
          "data": {
            "image/png": "[encoded data removed]",
            "text/plain": [
              "<Figure size 432x288 with 1 Axes>"
            ]
          },
          "metadata": {
            "needs_background": "light"
          },
          "output_type": "display_data"
        }
      ],
      "source": [
        "import matplotlib.pyplot as plt\n",
        "\n",
        "plt.spy(Ak, precision=1e-7)"
      ]
    },
    {
      "cell_type": "code",
      "execution_count": 371,
      "metadata": {
        "colab": {
          "base_uri": "https://localhost:8080/",
          "height": 286
        },
        "id": "mgcIYW4oqiQx",
        "outputId": "fa83add6-276d-4844-d66c-69994b2281a5"
      },
      "outputs": [
        {
          "data": {
            "text/plain": [
              "<matplotlib.image.AxesImage at 0x7ffac4520210>"
            ]
          },
          "execution_count": 371,
          "metadata": {},
          "output_type": "execute_result"
        },
        {
          "data": {
            "image/png": "[encoded data removed]",
            "text/plain": [
              "<Figure size 432x288 with 1 Axes>"
            ]
          },
          "metadata": {
            "needs_background": "light"
          },
          "output_type": "display_data"
        }
      ],
      "source": [
        "Ak, _ = qr_algorithm(get_sym_tri(11,[-2,3,5]), num_iter=200)\n",
        "plt.spy(Ak, precision=1e-7)"
      ]
    },
    {
      "cell_type": "markdown",
      "metadata": {
        "id": "-lomV2K-OGI8"
      },
      "source": [
        "#### Nonsymmetric case (5 pts)\n",
        "\n",
        "- Create nonsymmetric tridiagonal $11 \\times 11$ matrix with elements $5, 3, -2$ on sub-, main- and upper diagonal respectively without using loops.\n",
        "- Run $250$ iterations of the QR algorithm for this matrix.\n",
        "- Plot the result matrix with function ```plt.spy(Ak, precision=1e-7)```. Is this matrix lower triangular? How does this correspond to the claim about convergence of the QR algorithm?"
      ]
    },
    {
      "cell_type": "code",
      "execution_count": null,
      "metadata": {
        "id": "C2lGBHjaOGI9"
      },
      "outputs": [],
      "source": [
        "# Your solution is here"
      ]
    },
    {
      "cell_type": "markdown",
      "metadata": {
        "id": "feqvFhBukQNc"
      },
      "source": [
        "### QR algorithms with Rayleigh Quotient shift (10 pts)\n",
        "\n",
        "In the lectures the Rayleigh Quotient shift was introduced to speed up convergence of power method. Here we ask you to generalize this approach to construct the shifts in QR algorithm.\n",
        "\n",
        "- How to compute the Rayleigh Quotient shift in QR algorithm fast? Provide formulas and explanations how they can be simplified.\n",
        "- Implement explicit QR algorithm with Rayleigh Quotient shift. Please do not worry about implicit orthogonalization, we want to compare convergence only in terms of iterations.\n",
        "- Test your implementation in the symmetric case. Plot the convergence of QR algorithm with and without shift. Choose the dimension $n \\sim 100 $ for more representative results. \n",
        "- How the convergence of the shifted algorithm compares to the simple QR? Why? "
      ]
    },
    {
      "cell_type": "code",
      "execution_count": null,
      "metadata": {
        "id": "s4XD5HQOkQNc"
      },
      "outputs": [],
      "source": [
        "def qr_algorithm_reileigh(A_init, num_iter):\n",
        "    # enter your code here\n",
        "    return Ak, convergence"
      ]
    },
    {
      "cell_type": "markdown",
      "metadata": {
        "id": "CSW-aV5CkQNc"
      },
      "source": [
        "- Try QR with Rayleigh Quotient shift for a simple matrix $A = \\begin{bmatrix}\n",
        "0 & 1 \\\\\n",
        "1 & 0\n",
        "\\end{bmatrix}$. Does anything change from iteration to iteration? Does shift affect convergence here? Why?"
      ]
    },
    {
      "cell_type": "code",
      "execution_count": null,
      "metadata": {
        "id": "Mw65vfhIkQNc"
      },
      "outputs": [],
      "source": [
        "# Your solution is here"
      ]
    },
    {
      "cell_type": "markdown",
      "metadata": {
        "id": "sg78jwijkQNc"
      },
      "source": [
        "### QR with Wilkinson shift  (15 pts)\n",
        "\n",
        "To solve the problem that appears in the last example, we can use the Wilkinson shift:\n",
        "\n",
        "$$\\mu = a_m - \\frac {sign(\\delta) b^2_{m-1}} {(|\\delta| + \\sqrt{\\delta^2 + b^2_{m-1}} )},$$\n",
        "\n",
        "where $\\delta = \\frac{(a_{m-1} - a_m)}{2}$. If $\\delta = 0$, then instead of $sign(\\delta)$ you have to choose $1$ or $-1$ arbitrary.\n",
        "The numbers $a_m, b_{m-1}, a_{m-1}$ are taken from matrix $B$:\n",
        "\n",
        "$$\n",
        "    B = \n",
        "    \\begin{bmatrix} \n",
        "     a_{m-1} & b_{m-1} \\\\ \n",
        "     b_{m-1} & a_m \\\\ \n",
        "    \\end{bmatrix},\n",
        "$$  \n",
        "which is a lower right bottom submatrix of $A^{(k)}$. Here $k$ is an iteration counter in QR algorithm.\n",
        "\n",
        "- Compare convergence in the symmetric cases: \n",
        "    - distinctive eigenvalues\n",
        "    - two coincident eigenvalues\n",
        "    - maximum and minimum eigenvalues with the same absolute value\n",
        "Choose the dimension $n \\sim 100 $ for more representative results.\n",
        "What do you observe? "
      ]
    },
    {
      "cell_type": "code",
      "execution_count": null,
      "metadata": {
        "id": "RDh6eQowkQNd"
      },
      "outputs": [],
      "source": [
        "def qr_algorithm_wilkinson(A_init, num_iter):\n",
        "    # enter your code here\n",
        "    return Ak, convergence"
      ]
    },
    {
      "cell_type": "code",
      "execution_count": null,
      "metadata": {
        "id": "SG3XuyCEkQNd"
      },
      "outputs": [],
      "source": [
        "# Your solution is here"
      ]
    },
    {
      "cell_type": "markdown",
      "metadata": {
        "id": "c_8OYe7wOGI-"
      },
      "source": [
        "## Problem 4. (Movie Recommender system) 15 pts\n",
        "\n",
        "Imagine the world without NLA where you have free evenings and you can watch movies!  \n",
        "But it is always hard to choose a movie to watch. \n",
        "In this problem we suggest you to build your own movie recommender system based on SVD decomposition, so you can combine two perfect things: Numerical Linear Algebra and cinematography!"
      ]
    },
    {
      "cell_type": "markdown",
      "metadata": {
        "id": "W2duSA-Su7CI"
      },
      "source": [
        "In order to build recommender system you need data. \n",
        "Here you are https://grouplens.org/datasets/movielens/1m/\n",
        "\n",
        "Usually all recommender systems may be devided into two groups\n",
        "\n",
        "#### Collaborative filtering. \n",
        "\n",
        "This approach is based on user-item interaction.\n",
        "It has one important assumption: user who has liked an item in the past will also likes the same in the future. Suppose the user A likes the films about vampires. \n",
        "He is Twilight saga fan and he has watched the film \"What we do in the shadows\" and liked it or unliked it, in other words he evaluated it somehow. And suppose another user B, who has the similair behavior to the first user (he is also Twilight saga fan). And the chance, that he will estimate \"What we do in the shadows\" in the same way that user A did, is huge. So, the purpose of the collaborative filtering is to predict a user's behavior based on behavior of the simular users.\n",
        "\n",
        "#### Content based filtering.\n",
        "\n",
        "Collaborative filtering has some essential flaws. The main one is called \"cold start\". \"Cold start\" happens when the new user comes and he has not react anyhow to the items. So we do not know his past behavior and we do not know what to advise. Here content based filtering helps. Often resources gather some extra info about users and items before a user comes down to utilising the resource. So, for example we would know that user likes horror movies before he watched anything on the resource."
      ]
    },
    {
      "cell_type": "markdown",
      "metadata": {
        "id": "mMvQV1zSu7Cg"
      },
      "source": [
        "\n",
        "- In this task you will implement Collaborative filtering based on SVD (we will use the function from the proper package and check if the result recommender system advices the similar movies)"
      ]
    },
    {
      "cell_type": "markdown",
      "metadata": {
        "id": "tMN7EK6gu7Ch"
      },
      "source": [
        "1) (1 pts)  Explore the data. Construct the interaction matrix $M$ of size $m \\times n$ which contains the information of how a certain user rated a certain film. \n",
        "\n",
        "2) (5 pts)  Compute SVD of this matrix. Remeber that matrix $M$ is sparse (one user can hardly watch all the movies) so the good choice would be to use method from ```scipy.sparse.linalg``` package\n",
        "\n",
        "$$ M = USV^{\\top}, $$\n",
        "\n",
        "where $U$ is a $m \\times r $ orthogonal matrix with left singular vectors, which represents the relationship between users and latent factors, $S$ is a $r \\times r $ diagonal matrix, which describes the strength of each latent factor and $V^\\top$ is a $r \\times n$ matrix with right singular vectors, which represent the embeddings of  items (movies in our case) in latent space.\n",
        "Describe any simple heuristic to choose appropriate value for $r$ and explain why do you expect that it will work.\n"
      ]
    },
    {
      "cell_type": "code",
      "execution_count": null,
      "metadata": {
        "id": "qxYtnm7au7Ci"
      },
      "outputs": [],
      "source": [
        "# Importing Libraries\n",
        "import numpy as np\n",
        "import pandas as pd\n",
        "\n",
        "# Read the dataset\n",
        "\n",
        "# Create the interaction matrix\n",
        "\n",
        "# Normalize the matrix\n"
      ]
    },
    {
      "cell_type": "code",
      "execution_count": null,
      "metadata": {
        "id": "3zUd9OvBu7Cj"
      },
      "outputs": [],
      "source": [
        "# Compute Singular Value Decomposition of interaction matrix. You can use built-in functions\n",
        "\n",
        "U,S, V = svd(M) # Update this line, it is just example"
      ]
    },
    {
      "cell_type": "markdown",
      "metadata": {
        "id": "SMXnKF5Tu7Cj"
      },
      "source": [
        "3) (2 pts) In order to get weighted item-latent factors, we can multiply $S$ and $V^{T}$. Please, remember that $S$ is diagonal and multiply them efficiently."
      ]
    },
    {
      "cell_type": "code",
      "execution_count": null,
      "metadata": {
        "id": "VEW4M5Ovu7Cj"
      },
      "outputs": [],
      "source": [
        "# Your solutuion is here"
      ]
    },
    {
      "cell_type": "markdown",
      "metadata": {
        "id": "eEMDQkkqu7Ck"
      },
      "source": [
        "Now we have vectors that represent our item space. In other words we have $N$ movies and $N$ vectors which describe each movie, a.k.a. embeddings. \n",
        "In order to know if two movies are similar or not we need just to check if the corresponding vectors are similair or not. How we can do this?\n",
        "\n",
        "4) (2 pts)  Implement the cosine metric. If the cosine metric between two vectors equals to $1$ both vectors are collinear, if $0$ vectors are orthogonal, as a result corresponding movies are completely different.\n",
        "\n",
        "$$\n",
        "cosine(u,v) = \\frac{u^{\\top}v}{\\|u\\|_2\\|v\\|_2}\n",
        "$$"
      ]
    },
    {
      "cell_type": "code",
      "execution_count": null,
      "metadata": {
        "id": "lAR4dXMOOGI_"
      },
      "outputs": [],
      "source": [
        "# Your solutuion is here"
      ]
    },
    {
      "cell_type": "markdown",
      "metadata": {
        "id": "6wRZh8ALu7C1"
      },
      "source": [
        "5) (5 pts) Check your result. Implement the fuction, which finds and prints $k$ similar movies to the one you have chosen"
      ]
    },
    {
      "cell_type": "code",
      "execution_count": null,
      "metadata": {
        "id": "26g7MzeWu7C1"
      },
      "outputs": [],
      "source": [
        "# Your solutuion is here"
      ]
    },
    {
      "cell_type": "markdown",
      "metadata": {
        "id": "oPIQfKcmu7C2"
      },
      "source": [
        "Enjoy watching the recommended movies!\n"
      ]
    }
  ],
  "metadata": {
    "colab": {
      "collapsed_sections": [
        "_iM6NwHQOGId",
        "YFc3BR_TOGIj",
        "EQwdRJSIOGIg",
        "U2C8l2RvkQNW",
        "xWcyqKyrOGIp",
        "ru70NGUlOGIy",
        "hQ2vaIyMOGI3",
        "UNrCBNRUOGI6",
        "-lomV2K-OGI8",
        "feqvFhBukQNc",
        "sg78jwijkQNc",
        "c_8OYe7wOGI-",
        "W2duSA-Su7CI"
      ],
      "name": "hw2.ipynb",
      "provenance": []
    },
    "kernelspec": {
      "display_name": "Python 3",
      "language": "python",
      "name": "python3"
    },
    "language_info": {
      "codemirror_mode": {
        "name": "ipython",
        "version": 3
      },
      "file_extension": ".py",
      "mimetype": "text/x-python",
      "name": "python",
      "nbconvert_exporter": "python",
      "pygments_lexer": "ipython3",
      "version": "3.7.7"
    }
  },
  "nbformat": 4,
  "nbformat_minor": 0
}
